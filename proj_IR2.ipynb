{
 "cells": [
  {
   "cell_type": "code",
   "execution_count": 1,
   "id": "4e421b29",
   "metadata": {},
   "outputs": [],
   "source": [
    "import xml.etree.ElementTree as ET\n",
    "import matplotlib as plt\n",
    "import pandas as pd\n",
    "import numpy as np\n",
    "import trec\n",
    "import pprint as pp\n",
    "\n",
    "# https://wiki.python.org/moin/UsingPickle\n",
    "import pickle\n",
    "\n",
    "Queries = \"data/topics-2014_2015-summary.topics\"\n",
    "Qrels = \"data/qrels-clinical_trials.txt\"\n",
    "with open(Queries, 'r') as queries_reader:\n",
    "    txt = queries_reader.read()\n",
    "\n",
    "root = ET.fromstring(txt)\n",
    "\n",
    "cases = {}\n",
    "for query in root.iter('TOP'):\n",
    "    q_num = query.find('NUM').text\n",
    "    q_title = query.find('TITLE').text\n",
    "    cases[q_num] = q_title\n",
    "\n",
    "eval = trec.TrecEvaluation(cases, Qrels)\n",
    "\n",
    "# pp.pprint(cases)\n"
   ]
  },
  {
   "cell_type": "code",
   "execution_count": 2,
   "id": "ce6c385b",
   "metadata": {
    "tags": []
   },
   "outputs": [
    {
     "name": "stdout",
     "output_type": "stream",
     "text": [
      "3626\n"
     ]
    }
   ],
   "source": [
    "import xml.etree.ElementTree as ET\n",
    "import tarfile\n",
    "\n",
    "tar = tarfile.open(\"data/clinicaltrials.gov-16_dec_2015.tgz\", \"r:gz\")\n",
    "i = 0\n",
    "ids = []\n",
    "docs = []\n",
    "docs_detailed_desc = [None] * 3626\n",
    "brief_summary_docs = [None] * 3626\n",
    "criteria_docs = [None] * 3626\n",
    "for tarinfo in tar:\n",
    "    if tarinfo.size > 500:\n",
    "        txt = tar.extractfile(tarinfo).read().decode(\"utf-8\", \"strict\")\n",
    "        root = ET.fromstring(txt)\n",
    "\n",
    "        judged = False\n",
    "        for doc_id in root.iter('nct_id'):\n",
    "            if doc_id.text in eval.judged_docs:\n",
    "                judged = True\n",
    "\n",
    "        if judged is False:\n",
    "            continue\n",
    "\n",
    "\n",
    "        for brief_title in root.iter('brief_title'):\n",
    "            #print(\"brief_title: \", brief_title.text)\n",
    "            docs.append(brief_title.text)\n",
    "            ids.append(doc_id.text)\n",
    "\n",
    "        for detailed_description in root.iter('detailed_description'):\n",
    "            for child in detailed_description:\n",
    "                #print(\"detailed_description: \", child.text.strip())\n",
    "                docs_detailed_desc[i] = child.text.strip()\n",
    "                \n",
    "        for brief_summary in root.iter('brief_summary'):\n",
    "            for child in brief_summary:\n",
    "                #print(\"brief_summary: \", child.text.strip())\n",
    "                brief_summary_docs[i] = child.text.strip()\n",
    "                \n",
    "        for criteria in root.iter('criteria'):\n",
    "            for child in criteria:\n",
    "                criteria_docs[i] = child.text.strip()\n",
    "                \n",
    "        i += 1\n",
    "\n",
    "tar.close()\n",
    "\n",
    "for index, doc in enumerate(brief_summary_docs):\n",
    "    if(doc == None):\n",
    "        brief_summary_docs[index] = docs[index]\n",
    "\n",
    "for index, doc in enumerate(docs_detailed_desc):\n",
    "    if(doc == None):\n",
    "        docs_detailed_desc[index] = brief_summary_docs[index]\n",
    "        \n",
    "for index, doc in enumerate(criteria_docs):\n",
    "    if(doc == None):\n",
    "        criteria_docs[index] = docs_detailed_desc[index]\n",
    "\n",
    "print(i)\n",
    "pickle.dump(docs, open( \"documents.bin\", \"wb\" ) )\n",
    "pickle.dump(ids, open( \"doc_ids.bin\", \"wb\" ) )\n",
    "pickle.dump(docs_detailed_desc, open( \"documents_detailed_description.bin\", \"wb\" ) )\n",
    "pickle.dump(brief_summary_docs, open( \"brief_summary_docs.bin\", \"wb\" ))\n",
    "pickle.dump(criteria_docs, open( \"criteria_docs.bin\", \"wb\" ))"
   ]
  },
  {
   "cell_type": "markdown",
   "id": "65f063aa",
   "metadata": {},
   "source": [
    "# DIVIDING"
   ]
  },
  {
   "cell_type": "code",
   "execution_count": 3,
   "id": "0caede24",
   "metadata": {},
   "outputs": [],
   "source": [
    "from itertools import islice\n",
    "import random\n",
    "seed = random.seed(42)\n",
    "cases_keys = list(cases.keys())\n",
    "random.shuffle(cases_keys)\n",
    "cases2 = {}\n",
    "for key in cases_keys:\n",
    "    cases2[key] = cases[key]\n",
    "inc = iter(cases2.items())\n",
    "test = dict(islice((inc), len(cases) // 5))\n",
    "train = dict(inc)"
   ]
  },
  {
   "cell_type": "markdown",
   "id": "5bbeffd0",
   "metadata": {},
   "source": [
    "# Whole set"
   ]
  },
  {
   "cell_type": "code",
   "execution_count": 66,
   "id": "60e68a6f",
   "metadata": {},
   "outputs": [],
   "source": [
    "import pickle\n",
    "docs = pickle.load( open( \"documents.bin\", \"rb\" ) )\n",
    "ids = pickle.load( open( \"doc_ids.bin\", \"rb\" ) )\n",
    "\n",
    "from sklearn.metrics.pairwise import pairwise_distances\n",
    "from sklearn.feature_extraction.text import TfidfVectorizer\n",
    "\n",
    "index = TfidfVectorizer(ngram_range=(1,1), analyzer='word', stop_words = None)\n",
    "index.fit(docs)\n",
    "\n",
    "# Compute the corpus representation\n",
    "X = index.transform(docs)\n"
   ]
  },
  {
   "cell_type": "code",
   "execution_count": 5,
   "id": "4c05f247",
   "metadata": {},
   "outputs": [
    {
     "name": "stdout",
     "output_type": "stream",
     "text": [
      "0.019001940397946095\n",
      "0.060866353856246655\n",
      "0.08767466292220252\n",
      "0.017877701784794565\n",
      "0.031694224664332776\n",
      "0.057008884176519094\n",
      "0.33709176703214544\n",
      "0.007653088814735288\n",
      "0.0076984359443049806\n",
      "0.056127644422433204\n",
      "0.0032595854680093515\n",
      "0.11272509465854778\n",
      "0.032192396318795974\n",
      "0.0041343265980410895\n",
      "0.060625620196764075\n",
      "0.00603928841989503\n",
      "0.23763853106232868\n",
      "0.02655710908449622\n",
      "0.038120384343823255\n",
      "0.01618800201356972\n",
      "0.02563343862516546\n",
      "0.014170047114818214\n",
      "0.023016996165551588\n",
      "0.05917273499939565\n",
      "0.002473294862243666\n",
      "0.07312271062271061\n",
      "0.06645980041279621\n",
      "0\n",
      "0.07454644121759396\n",
      "0.035169379615586104\n",
      "0.00802516889686075\n",
      "0.00504200503522685\n",
      "0.010251334026484057\n",
      "0.008606628786405108\n",
      "0.007704855898634977\n",
      "0.04001101350775705\n",
      "0.0108143183952977\n",
      "0.05685354742159221\n",
      "0.05\n",
      "0.02366940040674103\n",
      "0.004346116514238688\n",
      "0.00794598793931938\n",
      "0.001701628252323889\n",
      "0.07112392723234046\n",
      "0.09781636467693455\n",
      "0.007472707432031623\n",
      "0.08233788979066337\n",
      "0.02820479539734805\n",
      "0.051422747981683406\n",
      "0.00751044586769651\n",
      "0.02805862167396444\n",
      "0.015640070345466512\n",
      "0.011598572260433444\n",
      "0.03186412409993879\n",
      "0.00478008998631412\n",
      "0.29826757548546956\n",
      "0.01678021741427518\n",
      "0.00043878894251864854\n",
      "0.003849392220107604\n",
      "0.006910080861827192\n"
     ]
    }
   ],
   "source": [
    "avg_precision_11point = np.zeros(11)\n",
    "for caseid in cases:\n",
    "    query = cases[caseid]\n",
    "    query_tfidf = index.transform([query])\n",
    "\n",
    "    doc_scores = 1 - pairwise_distances(X, query_tfidf, metric='cosine')\n",
    "    \n",
    "    results = pd.DataFrame(list(zip(ids, doc_scores)), columns = ['_id', 'score'])\n",
    "    results_ord = results.sort_values(by=['score'], ascending = False)\n",
    "    \n",
    "    [p10, recall, ap, ndcg5, mrr] = eval.eval(results_ord, caseid)\n",
    "    [precision_11point, recall_11point, total_relv_ret] = eval.evalPR(results_ord, caseid)\n",
    "\n",
    "    if (np.shape(recall_11point) != (0,)):\n",
    "        avg_precision_11point = avg_precision_11point + precision_11point\n",
    "\n",
    "    print(ap)\n"
   ]
  },
  {
   "cell_type": "code",
   "execution_count": null,
   "id": "b79ac88f",
   "metadata": {},
   "outputs": [
    {
     "data": {
      "text/plain": [
       "[<matplotlib.lines.Line2D at 0x2fa73c68d30>]"
      ]
     },
     "execution_count": 6,
     "metadata": {},
     "output_type": "execute_result"
    },
    {
     "data": {
      "image/png": "[encoded data removed]",
      "text/plain": [
       "<Figure size 640x480 with 1 Axes>"
      ]
     },
     "metadata": {},
     "output_type": "display_data"
    }
   ],
   "source": [
    "import matplotlib.pyplot as plt\n",
    "plt.plot(recall_11point,avg_precision_11point/len(cases))\n"
   ]
  },
  {
   "cell_type": "markdown",
   "id": "f84f9864",
   "metadata": {},
   "source": [
    "# TRAINING"
   ]
  },
  {
   "cell_type": "code",
   "execution_count": 155,
   "id": "f744d0b4",
   "metadata": {},
   "outputs": [],
   "source": [
    "from statistics import mean\n",
    "\n",
    "class Vsm:\n",
    "    def fit(self, ids, tfidf_wm, data):\n",
    "        self.Queries = \"topics-2014_2015-summary.topics\"\n",
    "        self.Qrels = \"qrels-clinical_trials.txt\"\n",
    "        self.eval = trec.TrecEvaluation(data, Qrels)\n",
    "        self.p10_p = []\n",
    "        self.recall_p = []\n",
    "        self.ap_p = []\n",
    "        self.ndcg5_p = []\n",
    "        self.mrr_p = []\n",
    "        self.avg_precision_11point = np.zeros(11)\n",
    "        self.recall_11point = 0\n",
    "        self.score_set = []\n",
    "        for caseid in data:\n",
    "            query = data[caseid]\n",
    "            query_tfidf = index.transform([query])\n",
    "\n",
    "            doc_scores = 1 - pairwise_distances(tfidf_wm, query_tfidf, metric='cosine')\n",
    "\n",
    "            results = pd.DataFrame(list(zip(np.array(ids), doc_scores)), columns = ['_id', 'score'])\n",
    "            results_ord = results.sort_values(by=['score'], ascending = False)\n",
    "\n",
    "            [p10, recall, ap, ndcg5, mrr] = eval.eval(results_ord, caseid)\n",
    "            [precision_11point, self.recall_11point, total_relv_ret] = eval.evalPR(results_ord, caseid)\n",
    "\n",
    "            if (np.shape(self.recall_11point) != (0,)):\n",
    "                self.avg_precision_11point = self.avg_precision_11point + precision_11point\n",
    "\n",
    "            self.p10_p.append(p10)\n",
    "            self.recall_p.append(recall)\n",
    "            self.ap_p.append(ap)\n",
    "            self.ndcg5_p.append(ndcg5)\n",
    "            self.mrr_p.append(mrr)\n",
    "            \n",
    "            for i, j in results.to_numpy():\n",
    "                self.score_set.append((caseid, i, j[0]))\n",
    "                \n",
    "    def show_results(self):\n",
    "        print (\"Mean of p10: \", np.mean(self.p10_p),\"\\nMean of recall: \", np.mean(self.recall_p), \"\\nMean of ap_p: \", np.mean(self.ap_p), \"\\nMean of ndcg5_p: \", np.mean(self.ndcg5_p),\"\\nMean of mrr_p: \", np.mean(self.mrr_p))\n",
    "        print (max(self.p10_p), max(self.recall_p), max(self.ap_p), max(self.ndcg5_p), max(self.mrr_p))\n",
    "        print (min(self.p10_p), min(self.recall_p), min(self.ap_p), min(self.ndcg5_p), min(self.mrr_p))\n"
   ]
  },
  {
   "cell_type": "code",
   "execution_count": 156,
   "id": "796f6d55",
   "metadata": {},
   "outputs": [],
   "source": [
    "from sklearn.metrics.pairwise import pairwise_distances\n",
    "from sklearn.feature_extraction.text import TfidfVectorizer\n",
    "import pickle\n",
    "\n",
    "docs = pickle.load( open( \"documents.bin\", \"rb\" ) )\n",
    "ids = pickle.load( open( \"doc_ids.bin\", \"rb\" ) )\n",
    "docs_detailed_desc = pickle.load(open(\"documents_detailed_description.bin\", \"rb\"))\n",
    "brief_summary_docs = pickle.load(open(\"brief_summary_docs.bin\", \"rb\"))\n",
    "criteria_docs = pickle.load(open(\"criteria_docs.bin\", \"rb\"))\n",
    "\n",
    "index = TfidfVectorizer(ngram_range=(1,1), analyzer='word', stop_words = None)\n"
   ]
  },
  {
   "cell_type": "code",
   "execution_count": 157,
   "id": "a12a4fe7-93d1-4b72-a089-05af5abe6bd0",
   "metadata": {},
   "outputs": [
    {
     "name": "stdout",
     "output_type": "stream",
     "text": [
      "Mean of p10:  0.060416666666666674 \n",
      "Mean of recall:  0.9791666666666666 \n",
      "Mean of ap_p:  0.03560801774813862 \n",
      "Mean of ndcg5_p:  0.048257370620261954 \n",
      "Mean of mrr_p:  0.00520546056260342\n",
      "0.5 1.0 0.33709176703214544 0.3391602052736161 0.017374517374517374\n",
      "0.0 0 0 0.0 0\n"
     ]
    }
   ],
   "source": [
    "#docs\n",
    "tfidf_wm_docs_train = index.fit_transform(docs)\n",
    "vsm_docs_train = Vsm()\n",
    "vsm_docs_train.fit(ids, tfidf_wm_docs_train, train)\n",
    "vsm_docs_train.show_results()"
   ]
  },
  {
   "cell_type": "code",
   "execution_count": 164,
   "id": "69f696f2-294c-41bf-aca3-698b8dd54e5f",
   "metadata": {},
   "outputs": [
    {
     "data": {
      "image/png": "[encoded data removed]",
      "text/plain": [
       "<Figure size 300x300 with 1 Axes>"
      ]
     },
     "metadata": {},
     "output_type": "display_data"
    }
   ],
   "source": [
    "fig, ax = plt.subplots(figsize=(3, 3))\n",
    "plt.plot(vsm_docs_train.recall_11point,vsm_docs_train.avg_precision_11point/len(train))\n",
    "ax.set_title(\"PRC form brief title (train)\")\n",
    "ax.set_ylabel(\"Precision\")\n",
    "ax.set_xlabel(\"Recall\")\n",
    "plt.show()"
   ]
  },
  {
   "cell_type": "code",
   "execution_count": 165,
   "id": "bbc0911b",
   "metadata": {},
   "outputs": [
    {
     "name": "stdout",
     "output_type": "stream",
     "text": [
      "Mean of p10:  0.11666666666666668 \n",
      "Mean of recall:  0.9791666666666666 \n",
      "Mean of ap_p:  0.07803368525241139 \n",
      "Mean of ndcg5_p:  0.10912767778142507 \n",
      "Mean of mrr_p:  0.00520546056260342\n",
      "0.3 1.0 0.4290594305062977 0.5531464700081437 0.017374517374517374\n",
      "0.0 0 0 0.0 0\n"
     ]
    }
   ],
   "source": [
    "#VSM docs detailed\n",
    "tfidf_wm_detail_train = index.fit_transform(docs_detailed_desc)\n",
    "vsm_detail_train = Vsm()\n",
    "vsm_detail_train.fit(ids, tfidf_wm_detail_train, train)\n",
    "vsm_detail_train.show_results()"
   ]
  },
  {
   "cell_type": "code",
   "execution_count": 166,
   "id": "3a296a57-017d-4e87-ba35-36bde45896be",
   "metadata": {},
   "outputs": [
    {
     "data": {
      "image/png": "[encoded data removed]",
      "text/plain": [
       "<Figure size 300x300 with 1 Axes>"
      ]
     },
     "metadata": {},
     "output_type": "display_data"
    }
   ],
   "source": [
    "fig, ax = plt.subplots(figsize=(3, 3))\n",
    "plt.plot(vsm_detail_train.recall_11point,vsm_detail_train.avg_precision_11point/len(train))\n",
    "ax.set_title(\"PRC form detailed describtion (train)\")\n",
    "ax.set_ylabel(\"Precision\")\n",
    "ax.set_xlabel(\"Recall\")\n",
    "plt.show()"
   ]
  },
  {
   "cell_type": "code",
   "execution_count": 167,
   "id": "824feeca",
   "metadata": {},
   "outputs": [
    {
     "name": "stdout",
     "output_type": "stream",
     "text": [
      "Mean of p10:  0.09166666666666667 \n",
      "Mean of recall:  0.9791666666666666 \n",
      "Mean of ap_p:  0.05543059902788689 \n",
      "Mean of ndcg5_p:  0.09398049573467478 \n",
      "Mean of mrr_p:  0.00520546056260342\n",
      "0.6 1.0 0.22921753864308655 0.8539316501572937 0.017374517374517374\n",
      "0.0 0 0 0.0 0\n"
     ]
    }
   ],
   "source": [
    "#criteria\n",
    "tfidf_wm_citeria_train = index.fit_transform(criteria_docs)\n",
    "vsm_criteria_train = Vsm()\n",
    "vsm_criteria_train.fit(ids, tfidf_wm_citeria_train, train)\n",
    "vsm_criteria_train.show_results()"
   ]
  },
  {
   "cell_type": "code",
   "execution_count": 168,
   "id": "facc184a-9e94-487f-8daa-df9211a2ef3c",
   "metadata": {},
   "outputs": [
    {
     "data": {
      "image/png": "[encoded data removed]",
      "text/plain": [
       "<Figure size 300x300 with 1 Axes>"
      ]
     },
     "metadata": {},
     "output_type": "display_data"
    }
   ],
   "source": [
    "fig, ax = plt.subplots(figsize=(3, 3))\n",
    "plt.plot(vsm_criteria_train.recall_11point,vsm_criteria_train.avg_precision_11point/len(train))\n",
    "ax.set_title(\"PRC form criteria (train)\")\n",
    "ax.set_ylabel(\"Precision\")\n",
    "ax.set_xlabel(\"Recall\")\n",
    "plt.show()"
   ]
  },
  {
   "cell_type": "code",
   "execution_count": 169,
   "id": "aed759d7",
   "metadata": {},
   "outputs": [
    {
     "name": "stdout",
     "output_type": "stream",
     "text": [
      "Mean of p10:  0.08958333333333335 \n",
      "Mean of recall:  0.9791666666666666 \n",
      "Mean of ap_p:  0.06741128876167297 \n",
      "Mean of ndcg5_p:  0.09591045889794651 \n",
      "Mean of mrr_p:  0.00520546056260342\n",
      "0.4 1.0 0.36629685942298534 0.48522855511632257 0.017374517374517374\n",
      "0.0 0 0 0.0 0\n"
     ]
    }
   ],
   "source": [
    "#summary\n",
    "tfidf_wm_summary_train = index.fit_transform(brief_summary_docs)\n",
    "vsm_summ_train = Vsm()\n",
    "vsm_summ_train.fit(ids, tfidf_wm_summary_train, train)\n",
    "vsm_summ_train.show_results()"
   ]
  },
  {
   "cell_type": "code",
   "execution_count": 170,
   "id": "8fc47ef3",
   "metadata": {},
   "outputs": [
    {
     "data": {
      "image/png": "[encoded data removed]",
      "text/plain": [
       "<Figure size 300x300 with 1 Axes>"
      ]
     },
     "metadata": {},
     "output_type": "display_data"
    }
   ],
   "source": [
    "fig, ax = plt.subplots(figsize=(3, 3))\n",
    "plt.plot(vsm_summ_train.recall_11point,vsm_summ_train.avg_precision_11point/len(train))\n",
    "ax.set_title(\"PRC form summary docs (train)\")\n",
    "ax.set_ylabel(\"Precision\")\n",
    "ax.set_xlabel(\"Recall\")\n",
    "plt.show()"
   ]
  },
  {
   "cell_type": "markdown",
   "id": "bc8f991c",
   "metadata": {},
   "source": [
    "# TESTING"
   ]
  },
  {
   "cell_type": "code",
   "execution_count": 171,
   "id": "d6ccec2f",
   "metadata": {},
   "outputs": [
    {
     "name": "stdout",
     "output_type": "stream",
     "text": [
      "Mean of p10:  0.11666666666666665 \n",
      "Mean of recall:  1.0 \n",
      "Mean of ap_p:  0.08652396042566791 \n",
      "Mean of ndcg5_p:  0.14106528397301293 \n",
      "Mean of mrr_p:  0.00459643316786174\n",
      "0.5 1.0 0.3191049408832995 0.4785372057762079 0.018753447324875896\n",
      "0.0 1.0 0.0037832422360117384 0.0 0.0002757859900717044\n"
     ]
    }
   ],
   "source": [
    "#docs\n",
    "tfidf_wm_docs_test = index.transform(docs)\n",
    "vsm_docs_test = Vsm()\n",
    "vsm_docs_test.fit(ids, tfidf_wm_docs_test, test)\n",
    "vsm_docs_test.show_results()"
   ]
  },
  {
   "cell_type": "code",
   "execution_count": 172,
   "id": "6ed73371-e926-44db-bcea-efb99278f29f",
   "metadata": {},
   "outputs": [
    {
     "data": {
      "image/png": "[encoded data removed]",
      "text/plain": [
       "<Figure size 300x300 with 1 Axes>"
      ]
     },
     "metadata": {},
     "output_type": "display_data"
    }
   ],
   "source": [
    "fig, ax = plt.subplots(figsize=(3, 3))\n",
    "plt.plot(vsm_docs_test.recall_11point,vsm_docs_test.avg_precision_11point/len(test))\n",
    "ax.set_title(\"PRC form brief title (test)\")\n",
    "ax.set_ylabel(\"Precision\")\n",
    "ax.set_xlabel(\"Recall\")\n",
    "plt.show()"
   ]
  },
  {
   "cell_type": "code",
   "execution_count": 174,
   "id": "4c87abbd",
   "metadata": {
    "tags": []
   },
   "outputs": [
    {
     "name": "stdout",
     "output_type": "stream",
     "text": [
      "Mean of p10:  0.08333333333333333 \n",
      "Mean of recall:  1.0 \n",
      "Mean of ap_p:  0.07280665704094792 \n",
      "Mean of ndcg5_p:  0.08315824933487959 \n",
      "Mean of mrr_p:  0.00459643316786174\n",
      "0.3 1.0 0.2101011754389147 0.30078518014914984 0.018753447324875896\n",
      "0.0 1.0 0.003303111292071592 0.0 0.0002757859900717044\n"
     ]
    }
   ],
   "source": [
    "#VSM docs detailed\n",
    "tfidf_wm_detail_test = index.transform(docs_detailed_desc)\n",
    "vsm_detail_test = Vsm()\n",
    "vsm_detail_test.fit(ids, tfidf_wm_detail_test, test)\n",
    "vsm_detail_test.show_results()"
   ]
  },
  {
   "cell_type": "code",
   "execution_count": 175,
   "id": "300b57a5-a0cb-4ff4-999d-47286a7f97cd",
   "metadata": {},
   "outputs": [
    {
     "data": {
      "image/png": "[encoded data removed]",
      "text/plain": [
       "<Figure size 300x300 with 1 Axes>"
      ]
     },
     "metadata": {},
     "output_type": "display_data"
    }
   ],
   "source": [
    "fig, ax = plt.subplots(figsize=(3, 3))\n",
    "plt.plot(vsm_detail_test.recall_11point,vsm_detail_test.avg_precision_11point/len(test))\n",
    "ax.set_title(\"PRC form detailed desribtion (test)\")\n",
    "ax.set_ylabel(\"Precision\")\n",
    "ax.set_xlabel(\"Recall\")\n",
    "plt.show()"
   ]
  },
  {
   "cell_type": "code",
   "execution_count": 176,
   "id": "633b8318-a03c-496e-9c9b-933f22f6d73b",
   "metadata": {},
   "outputs": [
    {
     "name": "stdout",
     "output_type": "stream",
     "text": [
      "Mean of p10:  0.14166666666666666 \n",
      "Mean of recall:  1.0 \n",
      "Mean of ap_p:  0.10693002104237039 \n",
      "Mean of ndcg5_p:  0.18369652229389014 \n",
      "Mean of mrr_p:  0.00459643316786174\n",
      "0.4 1.0 0.4412179279814415 0.7406126212438987 0.018753447324875896\n",
      "0.0 1.0 0.002890173410404624 0.0 0.0002757859900717044\n"
     ]
    }
   ],
   "source": [
    "#criteria\n",
    "tfidf_wm_citeria_test = index.transform(criteria_docs)\n",
    "vsm_criteria_test = Vsm()\n",
    "vsm_criteria_test.fit(ids, tfidf_wm_citeria_test, test)\n",
    "vsm_criteria_test.show_results()"
   ]
  },
  {
   "cell_type": "code",
   "execution_count": 177,
   "id": "136e54ca-e9d4-47a3-bda9-36c73bf9dfdd",
   "metadata": {},
   "outputs": [
    {
     "data": {
      "image/png": "[encoded data removed]",
      "text/plain": [
       "<Figure size 300x300 with 1 Axes>"
      ]
     },
     "metadata": {},
     "output_type": "display_data"
    }
   ],
   "source": [
    "fig, ax = plt.subplots(figsize=(3, 3))\n",
    "plt.plot(vsm_criteria_test.recall_11point,vsm_criteria_test.avg_precision_11point/len(test))\n",
    "ax.set_title(\"PRC form criteria (test)\")\n",
    "ax.set_ylabel(\"Precision\")\n",
    "ax.set_xlabel(\"Recall\")\n",
    "plt.show()"
   ]
  },
  {
   "cell_type": "code",
   "execution_count": 178,
   "id": "6cf52ba0-2dff-44e2-a4a3-50240f2ee65d",
   "metadata": {},
   "outputs": [
    {
     "name": "stdout",
     "output_type": "stream",
     "text": [
      "Mean of p10:  0.1166666666666667 \n",
      "Mean of recall:  1.0 \n",
      "Mean of ap_p:  0.08959613213786033 \n",
      "Mean of ndcg5_p:  0.10062240729640498 \n",
      "Mean of mrr_p:  0.00459643316786174\n",
      "0.4 1.0 0.42485902255639096 0.469909445244515 0.018753447324875896\n",
      "0.0 1.0 0.001949317738791423 0.0 0.0002757859900717044\n"
     ]
    }
   ],
   "source": [
    "#summary\n",
    "tfidf_wm_summary_test = index.transform(brief_summary_docs)\n",
    "vsm_summ_test = Vsm()\n",
    "vsm_summ_test.fit(ids, tfidf_wm_summary_test, test)\n",
    "vsm_summ_test.show_results()"
   ]
  },
  {
   "cell_type": "code",
   "execution_count": 179,
   "id": "9bb68f0b",
   "metadata": {},
   "outputs": [
    {
     "data": {
      "image/png": "[encoded data removed]",
      "text/plain": [
       "<Figure size 300x300 with 1 Axes>"
      ]
     },
     "metadata": {},
     "output_type": "display_data"
    }
   ],
   "source": [
    "fig, ax = plt.subplots(figsize=(3, 3))\n",
    "plt.plot(vsm_summ_test.recall_11point,vsm_summ_test.avg_precision_11point/len(test))\n",
    "ax.set_title(\"PRC form summary docs (test)\")\n",
    "ax.set_ylabel(\"Precision\")\n",
    "ax.set_xlabel(\"Recall\")\n",
    "plt.show()"
   ]
  },
  {
   "cell_type": "markdown",
   "id": "1d2d6fad",
   "metadata": {},
   "source": [
    "# Language Model with Jelinek-Mercer Smoothing"
   ]
  },
  {
   "cell_type": "markdown",
   "id": "6ec65aa2",
   "metadata": {},
   "source": [
    "# Training LM"
   ]
  },
  {
   "cell_type": "code",
   "execution_count": 180,
   "id": "414acd42",
   "metadata": {},
   "outputs": [],
   "source": [
    "import pickle\n",
    "docs = pickle.load( open( \"documents.bin\", \"rb\" ) )\n",
    "ids = pickle.load( open( \"doc_ids.bin\", \"rb\" ) )\n",
    "docs_detailed_desc = pickle.load(open(\"documents_detailed_description.bin\", \"rb\"))\n",
    "brief_summary_docs = pickle.load(open(\"brief_summary_docs.bin\", \"rb\"))\n",
    "criteria_docs = pickle.load(open(\"criteria_docs.bin\", \"rb\"))\n",
    "\n",
    "from sklearn.metrics.pairwise import pairwise_distances\n",
    "from sklearn.feature_extraction.text import CountVectorizer\n",
    "\n",
    "index = CountVectorizer(ngram_range=(1,1), analyzer='word', stop_words = None)"
   ]
  },
  {
   "cell_type": "code",
   "execution_count": 181,
   "id": "9521f3d9",
   "metadata": {},
   "outputs": [],
   "source": [
    "class Lmjm:\n",
    "    def find_best_lambda(self, ids, X, data, index):\n",
    "        lambdas = [0.01, 0.05, 0.1, 0.2, 0.5]\n",
    "        p10_dict = dict()\n",
    "        for lam in lambdas:\n",
    "            self.fit(ids, X, data, index, lam)\n",
    "            p10_dict[lam] = np.mean(self.p10_p)\n",
    "        return max(p10_dict, key=p10_dict.get)\n",
    "    \n",
    "    \n",
    "    def fit(self, ids, X, data, index, lam):\n",
    "        self.Queries = \"topics-2014_2015-summary.topics\"\n",
    "        self.Qrels = \"qrels-clinical_trials.txt\"\n",
    "        self.eval = trec.TrecEvaluation(data, Qrels)\n",
    "        self.avg_precision_11point = np.zeros(11)\n",
    "        self.doc_scores = []\n",
    "        self.p10_p = []\n",
    "        self.recall_p = []\n",
    "        self.ap_p = []\n",
    "        self.ndcg5_p = []\n",
    "        self.mrr_p = []\n",
    "        self.l = lam\n",
    "        self.score_set = []\n",
    "        self.recall_11point = 0\n",
    "        X_n = pd.DataFrame(X.toarray(), columns=index.get_feature_names_out())\n",
    "        termfreq = X_n.sum()\n",
    "        Mc = termfreq/termfreq.sum()\n",
    "        Md = (X_n.T/X_n.T.sum()).T\n",
    "\n",
    "        Md = Md.to_numpy()\n",
    "        Mc = Mc.to_numpy()\n",
    "        for caseid in data:\n",
    "            query = data[caseid]\n",
    "            query_tfidf = index.transform([query]).toarray()\n",
    "            query_tfidf = np.ravel(query_tfidf)\n",
    "\n",
    "            terms_non_zero = np.ravel(np.nonzero(query_tfidf))\n",
    "\n",
    "            scores_docs = self.l * np.array(Md[:, terms_non_zero]) * query_tfidf[terms_non_zero]\n",
    "            scores_Mc = (1-self.l) * (Mc[terms_non_zero])\n",
    "            scores = (scores_docs + scores_Mc)\n",
    "\n",
    "            doc_scores = np.sum(np.log(scores), axis = 1)\n",
    "\n",
    "            results = pd.DataFrame(list(zip(ids, doc_scores)), columns = ['_id', 'score'])\n",
    "            results_ord = results.sort_values(by=['score'], ascending = False) \n",
    "\n",
    "            [p10, recall, ap, ndcg5, mrr] = eval.eval(results_ord, caseid)\n",
    "            [precision_11point, self.recall_11point, total_relv_ret] = eval.evalPR(results_ord, caseid)\n",
    "            if (np.shape(self.recall_11point) != (0,)):\n",
    "                self.avg_precision_11point = self.avg_precision_11point + precision_11point\n",
    "\n",
    "            self.p10_p.append(p10)\n",
    "            self.recall_p.append(recall)\n",
    "            self.ap_p.append(ap)\n",
    "            self.ndcg5_p.append(ndcg5)\n",
    "            self.mrr_p.append(mrr)\n",
    "            \n",
    "            for i, j in results.to_numpy():\n",
    "                self.score_set.append((caseid, i, j))\n",
    "            \n",
    "    def show_results(self):\n",
    "        print (\"Mean of p10: \", np.mean(self.p10_p),\"\\nMean of recall: \", np.mean(self.recall_p), \"\\nMean of ap_p: \", np.mean(self.ap_p), \"\\nMean of ndcg5_p: \", np.mean(self.ndcg5_p),\"\\nMean of mrr_p: \", np.mean(self.mrr_p))\n",
    "        print (max(self.p10_p), max(self.recall_p), max(self.ap_p), max(self.ndcg5_p), max(self.mrr_p))\n",
    "        print (min(self.p10_p), min(self.recall_p), min(self.ap_p), min(self.ndcg5_p), min(self.mrr_p))"
   ]
  },
  {
   "cell_type": "code",
   "execution_count": 182,
   "id": "1b3f56bb-0b1a-4391-9b18-185a0a4e9b82",
   "metadata": {},
   "outputs": [
    {
     "name": "stdout",
     "output_type": "stream",
     "text": [
      "0.1\n",
      "Mean of p10:  0.0625 \n",
      "Mean of recall:  0.9791666666666666 \n",
      "Mean of ap_p:  0.03695871369548858 \n",
      "Mean of ndcg5_p:  0.047437028755951495 \n",
      "Mean of mrr_p:  0.00520546056260342\n",
      "0.5 1.0 0.33121283438882804 0.3391602052736161 0.017374517374517374\n",
      "0.0 0 0 0.0 0\n"
     ]
    }
   ],
   "source": [
    "#docs\n",
    "X_docs_LM_train = index.fit_transform(docs)\n",
    "lmjm_docs_train = Lmjm()\n",
    "best_lambda = lmjm_docs_train.find_best_lambda(ids, X_docs_LM_train, train, index)\n",
    "print(best_lambda)\n",
    "lmjm_docs_train.fit(ids, X_docs_LM_train, train, index, best_lambda)\n",
    "lmjm_docs_train.show_results()"
   ]
  },
  {
   "cell_type": "code",
   "execution_count": 183,
   "id": "67bdc167-e651-4fba-aa12-40736dfde32e",
   "metadata": {},
   "outputs": [
    {
     "data": {
      "image/png": "[encoded data removed]",
      "text/plain": [
       "<Figure size 300x300 with 1 Axes>"
      ]
     },
     "metadata": {},
     "output_type": "display_data"
    }
   ],
   "source": [
    "fig, ax = plt.subplots(figsize=(3, 3))\n",
    "plt.plot(lmjm_docs_train.recall_11point,lmjm_docs_train.avg_precision_11point/len(train))\n",
    "ax.set_title(\"PRC from brief title (train)\")\n",
    "ax.set_ylabel(\"Precision\")\n",
    "ax.set_xlabel(\"Recall\")\n",
    "plt.show()"
   ]
  },
  {
   "cell_type": "code",
   "execution_count": 184,
   "id": "78cae269-defc-443f-9eee-bcc08b3f5d56",
   "metadata": {},
   "outputs": [
    {
     "name": "stdout",
     "output_type": "stream",
     "text": [
      "0.1\n",
      "Mean of p10:  0.11041666666666666 \n",
      "Mean of recall:  0.9791666666666666 \n",
      "Mean of ap_p:  0.07845213596703364 \n",
      "Mean of ndcg5_p:  0.11857671586159742 \n",
      "Mean of mrr_p:  0.00520546056260342\n",
      "0.6 1.0 0.4084466279589102 0.5551553341043619 0.017374517374517374\n",
      "0.0 0 0 0.0 0\n"
     ]
    }
   ],
   "source": [
    "#VSM docs detailed\n",
    "X_detailed_LM_train = index.fit_transform(docs_detailed_desc)\n",
    "LMJM_detailed_train = Lmjm()\n",
    "best_lambda = lmjm_docs_train.find_best_lambda(ids, X_detailed_LM_train, train, index)\n",
    "print(best_lambda)\n",
    "LMJM_detailed_train.fit(ids, X_detailed_LM_train, train, index, best_lambda)\n",
    "LMJM_detailed_train.show_results()"
   ]
  },
  {
   "cell_type": "code",
   "execution_count": 185,
   "id": "049e0bba-b2d0-48bc-9c90-41e93ce46960",
   "metadata": {},
   "outputs": [
    {
     "data": {
      "image/png": "[encoded data removed]",
      "text/plain": [
       "<Figure size 300x300 with 1 Axes>"
      ]
     },
     "metadata": {},
     "output_type": "display_data"
    }
   ],
   "source": [
    "fig, ax = plt.subplots(figsize=(3, 3))\n",
    "plt.plot(LMJM_detailed_train.recall_11point,LMJM_detailed_train.avg_precision_11point/len(train))\n",
    "ax.set_title(\"PRC from detailed desribtion (train)\")\n",
    "ax.set_ylabel(\"Precision\")\n",
    "ax.set_xlabel(\"Recall\")\n",
    "plt.show()"
   ]
  },
  {
   "cell_type": "code",
   "execution_count": 186,
   "id": "af1c997e-5cc1-4e25-91a2-c2516b837646",
   "metadata": {},
   "outputs": [
    {
     "name": "stdout",
     "output_type": "stream",
     "text": [
      "0.05\n",
      "Mean of p10:  0.11874999999999998 \n",
      "Mean of recall:  0.9791666666666666 \n",
      "Mean of ap_p:  0.06717819491295589 \n",
      "Mean of ndcg5_p:  0.11755209790902639 \n",
      "Mean of mrr_p:  0.00520546056260342\n",
      "0.6 1.0 0.2220077045460723 1.0 0.017374517374517374\n",
      "0.0 0 0 0.0 0\n"
     ]
    }
   ],
   "source": [
    "#criteria\n",
    "X_criteria_LM_train = index.fit_transform(criteria_docs)\n",
    "LMJM_criteria_train = Lmjm()\n",
    "best_lambda = lmjm_docs_train.find_best_lambda(ids, X_criteria_LM_train, train, index)\n",
    "print(best_lambda)\n",
    "LMJM_criteria_train.fit(ids, X_criteria_LM_train, train, index, best_lambda)\n",
    "LMJM_criteria_train.show_results()"
   ]
  },
  {
   "cell_type": "code",
   "execution_count": 187,
   "id": "77b297be-508d-4d35-b687-0e0aa9c908b4",
   "metadata": {},
   "outputs": [
    {
     "data": {
      "image/png": "[encoded data removed]",
      "text/plain": [
       "<Figure size 300x300 with 1 Axes>"
      ]
     },
     "metadata": {},
     "output_type": "display_data"
    }
   ],
   "source": [
    "fig, ax = plt.subplots(figsize=(3, 3))\n",
    "plt.plot(LMJM_criteria_train.recall_11point,LMJM_criteria_train.avg_precision_11point/len(train))\n",
    "ax.set_title(\"PRC from criteria (train)\")\n",
    "ax.set_ylabel(\"Precision\")\n",
    "ax.set_xlabel(\"Recall\")\n",
    "plt.show()"
   ]
  },
  {
   "cell_type": "code",
   "execution_count": 188,
   "id": "b7b9b824-7bc6-4036-bc5a-5e9ac7141d05",
   "metadata": {},
   "outputs": [
    {
     "name": "stdout",
     "output_type": "stream",
     "text": [
      "0.2\n",
      "Mean of p10:  0.0979166666666667 \n",
      "Mean of recall:  0.9791666666666666 \n",
      "Mean of ap_p:  0.06230247106814154 \n",
      "Mean of ndcg5_p:  0.08211245574340158 \n",
      "Mean of mrr_p:  0.00520546056260342\n",
      "0.5 1.0 0.34115827605563454 0.44149241373678083 0.017374517374517374\n",
      "0.0 0 0 0.0 0\n"
     ]
    }
   ],
   "source": [
    "#summary\n",
    "X_summary_LM_train = index.fit_transform(brief_summary_docs)\n",
    "LMJM_summary_train = Lmjm()\n",
    "best_lambda = lmjm_docs_train.find_best_lambda(ids, X_summary_LM_train, train, index)\n",
    "print(best_lambda)\n",
    "LMJM_summary_train.fit(ids, X_summary_LM_train, train, index, best_lambda)\n",
    "LMJM_summary_train.show_results()"
   ]
  },
  {
   "cell_type": "code",
   "execution_count": 189,
   "id": "71807aac-f6e2-4fe6-b7d4-67ff334fcf81",
   "metadata": {},
   "outputs": [
    {
     "data": {
      "image/png": "[encoded data removed]",
      "text/plain": [
       "<Figure size 300x300 with 1 Axes>"
      ]
     },
     "metadata": {},
     "output_type": "display_data"
    }
   ],
   "source": [
    "fig, ax = plt.subplots(figsize=(3, 3))\n",
    "plt.plot(LMJM_summary_train.recall_11point,LMJM_summary_train.avg_precision_11point/len(train))\n",
    "ax.set_title(\"PRC from summary documents (train)\")\n",
    "ax.set_ylabel(\"Precision\")\n",
    "ax.set_xlabel(\"Recall\")\n",
    "plt.show()"
   ]
  },
  {
   "cell_type": "markdown",
   "id": "6c8a2a0e",
   "metadata": {},
   "source": [
    "# Testing LM"
   ]
  },
  {
   "cell_type": "code",
   "execution_count": 190,
   "id": "09390bc9",
   "metadata": {},
   "outputs": [
    {
     "name": "stderr",
     "output_type": "stream",
     "text": [
      "C:\\Users\\pawel\\AppData\\Local\\Temp\\ipykernel_10460\\2007199252.py:43: RuntimeWarning: divide by zero encountered in log\n",
      "  doc_scores = np.sum(np.log(scores), axis = 1)\n",
      "C:\\Users\\pawel\\AppData\\Local\\Temp\\ipykernel_10460\\2007199252.py:43: RuntimeWarning: divide by zero encountered in log\n",
      "  doc_scores = np.sum(np.log(scores), axis = 1)\n",
      "C:\\Users\\pawel\\AppData\\Local\\Temp\\ipykernel_10460\\2007199252.py:43: RuntimeWarning: divide by zero encountered in log\n",
      "  doc_scores = np.sum(np.log(scores), axis = 1)\n",
      "C:\\Users\\pawel\\AppData\\Local\\Temp\\ipykernel_10460\\2007199252.py:43: RuntimeWarning: divide by zero encountered in log\n",
      "  doc_scores = np.sum(np.log(scores), axis = 1)\n",
      "C:\\Users\\pawel\\AppData\\Local\\Temp\\ipykernel_10460\\2007199252.py:43: RuntimeWarning: divide by zero encountered in log\n",
      "  doc_scores = np.sum(np.log(scores), axis = 1)\n",
      "C:\\Users\\pawel\\AppData\\Local\\Temp\\ipykernel_10460\\2007199252.py:43: RuntimeWarning: divide by zero encountered in log\n",
      "  doc_scores = np.sum(np.log(scores), axis = 1)\n",
      "C:\\Users\\pawel\\AppData\\Local\\Temp\\ipykernel_10460\\2007199252.py:43: RuntimeWarning: divide by zero encountered in log\n",
      "  doc_scores = np.sum(np.log(scores), axis = 1)\n",
      "C:\\Users\\pawel\\AppData\\Local\\Temp\\ipykernel_10460\\2007199252.py:43: RuntimeWarning: divide by zero encountered in log\n",
      "  doc_scores = np.sum(np.log(scores), axis = 1)\n",
      "C:\\Users\\pawel\\AppData\\Local\\Temp\\ipykernel_10460\\2007199252.py:43: RuntimeWarning: divide by zero encountered in log\n",
      "  doc_scores = np.sum(np.log(scores), axis = 1)\n",
      "C:\\Users\\pawel\\AppData\\Local\\Temp\\ipykernel_10460\\2007199252.py:43: RuntimeWarning: divide by zero encountered in log\n",
      "  doc_scores = np.sum(np.log(scores), axis = 1)\n"
     ]
    },
    {
     "name": "stdout",
     "output_type": "stream",
     "text": [
      "Mean of p10:  0.008333333333333333 \n",
      "Mean of recall:  1.0 \n",
      "Mean of ap_p:  0.016192201199218815 \n",
      "Mean of ndcg5_p:  0.017832188727877295 \n",
      "Mean of mrr_p:  0.00459643316786174\n",
      "0.1 1.0 0.061865195107868365 0.21398626473452756 0.018753447324875896\n",
      "0.0 1.0 0.0013716102780669366 0.0 0.0002757859900717044\n"
     ]
    }
   ],
   "source": [
    "#docs\n",
    "X_docs_LM_test = index.transform(docs)\n",
    "LMJM_docs_test = Lmjm()\n",
    "LMJM_docs_test.fit(ids, X_docs_LM_test, test, index, 0.1)\n",
    "LMJM_docs_test.show_results()"
   ]
  },
  {
   "cell_type": "code",
   "execution_count": 191,
   "id": "829a5993-de09-4d4c-b97a-0cec67210027",
   "metadata": {},
   "outputs": [
    {
     "data": {
      "image/png": "[encoded data removed]",
      "text/plain": [
       "<Figure size 300x300 with 1 Axes>"
      ]
     },
     "metadata": {},
     "output_type": "display_data"
    }
   ],
   "source": [
    "fig, ax = plt.subplots(figsize=(3, 3))\n",
    "plt.plot(LMJM_docs_test.recall_11point,LMJM_docs_test.avg_precision_11point/len(test))\n",
    "ax.set_title(\"PRC from brief title (test)\")\n",
    "ax.set_ylabel(\"Precision\")\n",
    "ax.set_xlabel(\"Recall\")\n",
    "plt.show()"
   ]
  },
  {
   "cell_type": "code",
   "execution_count": 192,
   "id": "65ac2153",
   "metadata": {},
   "outputs": [
    {
     "name": "stdout",
     "output_type": "stream",
     "text": [
      "Mean of p10:  0.16666666666666666 \n",
      "Mean of recall:  1.0 \n",
      "Mean of ap_p:  0.0999243641198207 \n",
      "Mean of ndcg5_p:  0.12173658806810171 \n",
      "Mean of mrr_p:  0.00459643316786174\n",
      "0.5 1.0 0.3436126257810016 0.3536181454553091 0.018753447324875896\n",
      "0.0 1.0 0.002864991331473462 0.0 0.0002757859900717044\n"
     ]
    }
   ],
   "source": [
    "#VSM docs detailed\n",
    "X_detailed_LM_test = index.transform(docs_detailed_desc)\n",
    "LMJM_detailed_test = Lmjm()\n",
    "LMJM_detailed_test.fit(ids, X_detailed_LM_test, test, index, 0.1)\n",
    "LMJM_detailed_test.show_results()"
   ]
  },
  {
   "cell_type": "code",
   "execution_count": 193,
   "id": "3d363713-2a16-4d1c-a1c8-0ebe551356b2",
   "metadata": {},
   "outputs": [
    {
     "data": {
      "image/png": "[encoded data removed]",
      "text/plain": [
       "<Figure size 300x300 with 1 Axes>"
      ]
     },
     "metadata": {},
     "output_type": "display_data"
    }
   ],
   "source": [
    "fig, ax = plt.subplots(figsize=(3, 3))\n",
    "plt.plot(LMJM_detailed_test.recall_11point,LMJM_detailed_test.avg_precision_11point/len(test))\n",
    "ax.set_title(\"PRC from detailed describtion (test)\")\n",
    "ax.set_ylabel(\"Precision\")\n",
    "ax.set_xlabel(\"Recall\")\n",
    "plt.show()"
   ]
  },
  {
   "cell_type": "code",
   "execution_count": 194,
   "id": "c573babb",
   "metadata": {},
   "outputs": [
    {
     "name": "stderr",
     "output_type": "stream",
     "text": [
      "C:\\Users\\pawel\\AppData\\Local\\Temp\\ipykernel_10460\\2007199252.py:43: RuntimeWarning: divide by zero encountered in log\n",
      "  doc_scores = np.sum(np.log(scores), axis = 1)\n",
      "C:\\Users\\pawel\\AppData\\Local\\Temp\\ipykernel_10460\\2007199252.py:43: RuntimeWarning: divide by zero encountered in log\n",
      "  doc_scores = np.sum(np.log(scores), axis = 1)\n",
      "C:\\Users\\pawel\\AppData\\Local\\Temp\\ipykernel_10460\\2007199252.py:43: RuntimeWarning: divide by zero encountered in log\n",
      "  doc_scores = np.sum(np.log(scores), axis = 1)\n",
      "C:\\Users\\pawel\\AppData\\Local\\Temp\\ipykernel_10460\\2007199252.py:43: RuntimeWarning: divide by zero encountered in log\n",
      "  doc_scores = np.sum(np.log(scores), axis = 1)\n"
     ]
    },
    {
     "name": "stdout",
     "output_type": "stream",
     "text": [
      "Mean of p10:  0.075 \n",
      "Mean of recall:  1.0 \n",
      "Mean of ap_p:  0.06819050790594179 \n",
      "Mean of ndcg5_p:  0.13995180628070833 \n",
      "Mean of mrr_p:  0.00459643316786174\n",
      "0.4 1.0 0.4049263707836379 0.6702844482938307 0.018753447324875896\n",
      "0.0 1.0 0.0013716102780669366 0.0 0.0002757859900717044\n"
     ]
    }
   ],
   "source": [
    "#criteria\n",
    "X_criteria_LM_test = index.transform(criteria_docs)\n",
    "LMJM_criteria_test = Lmjm()\n",
    "LMJM_criteria_test.fit(ids, X_criteria_LM_test, test, index, 0.05)\n",
    "LMJM_criteria_test.show_results()"
   ]
  },
  {
   "cell_type": "code",
   "execution_count": 195,
   "id": "6d5de47a-aaf0-4218-b02b-8e39e2fa6ff0",
   "metadata": {},
   "outputs": [
    {
     "data": {
      "image/png": "[encoded data removed]",
      "text/plain": [
       "<Figure size 300x300 with 1 Axes>"
      ]
     },
     "metadata": {},
     "output_type": "display_data"
    }
   ],
   "source": [
    "fig, ax = plt.subplots(figsize=(3, 3))\n",
    "plt.plot(LMJM_criteria_test.recall_11point,LMJM_criteria_test.avg_precision_11point/len(test))\n",
    "ax.set_title(\"PRC from criteria (test)\")\n",
    "ax.set_ylabel(\"Precision\")\n",
    "ax.set_xlabel(\"Recall\")\n",
    "plt.show()"
   ]
  },
  {
   "cell_type": "code",
   "execution_count": 196,
   "id": "55855562-a15f-4f97-8726-ed8a707eca09",
   "metadata": {},
   "outputs": [
    {
     "name": "stdout",
     "output_type": "stream",
     "text": [
      "Mean of p10:  0.1416666666666667 \n",
      "Mean of recall:  1.0 \n",
      "Mean of ap_p:  0.10601660405558842 \n",
      "Mean of ndcg5_p:  0.1086580615567579 \n",
      "Mean of mrr_p:  0.00459643316786174\n",
      "0.6 1.0 0.6327733009961926 0.5941231586290995 0.018753447324875896\n",
      "0.0 1.0 0.0018248175182481751 0.0 0.0002757859900717044\n"
     ]
    }
   ],
   "source": [
    "#summary\n",
    "X_summary_LM_test = index.transform(brief_summary_docs)\n",
    "LMJM_summary_test = Lmjm()\n",
    "LMJM_summary_test.fit(ids, X_summary_LM_test, test, index, 0.2)\n",
    "LMJM_summary_test.show_results()"
   ]
  },
  {
   "cell_type": "code",
   "execution_count": 198,
   "id": "85551aba-cfdc-4eb4-8ef5-91c86d72f9c7",
   "metadata": {},
   "outputs": [
    {
     "data": {
      "image/png": "[encoded data removed]",
      "text/plain": [
       "<Figure size 300x300 with 1 Axes>"
      ]
     },
     "metadata": {},
     "output_type": "display_data"
    }
   ],
   "source": [
    "fig, ax = plt.subplots(figsize=(3, 3))\n",
    "plt.plot(LMJM_summary_test.recall_11point,LMJM_summary_test.avg_precision_11point/len(test))\n",
    "ax.set_title(\"PRC from summary docs (test)\")\n",
    "ax.set_ylabel(\"Precision\")\n",
    "ax.set_xlabel(\"Recall\")\n",
    "plt.show()"
   ]
  },
  {
   "cell_type": "markdown",
   "id": "d19e3ef3-43ae-4bbd-b7ba-152f379be66c",
   "metadata": {},
   "source": [
    "# Table of all"
   ]
  },
  {
   "cell_type": "markdown",
   "id": "20a0fd76-2353-49ff-8fc2-1aa1bfe53c94",
   "metadata": {},
   "source": [
    "## Training"
   ]
  },
  {
   "cell_type": "code",
   "execution_count": 42,
   "id": "2409a82c-f86b-4418-8dd2-6ee30f90fa19",
   "metadata": {},
   "outputs": [
    {
     "data": {
      "text/html": [
       "<div>\n",
       "<style scoped>\n",
       "    .dataframe tbody tr th:only-of-type {\n",
       "        vertical-align: middle;\n",
       "    }\n",
       "\n",
       "    .dataframe tbody tr th {\n",
       "        vertical-align: top;\n",
       "    }\n",
       "\n",
       "    .dataframe thead th {\n",
       "        text-align: right;\n",
       "    }\n",
       "</style>\n",
       "<table border=\"1\" class=\"dataframe\">\n",
       "  <thead>\n",
       "    <tr style=\"text-align: right;\">\n",
       "      <th></th>\n",
       "      <th>query_id</th>\n",
       "      <th>doc_id</th>\n",
       "      <th>vsm_brief_title</th>\n",
       "      <th>vsm_detailed_description</th>\n",
       "      <th>vsm_criteria</th>\n",
       "      <th>vsm_summary</th>\n",
       "      <th>lmjm_brief_title</th>\n",
       "      <th>lmjm_detailed_description</th>\n",
       "      <th>lmjm_criteria</th>\n",
       "      <th>lmjm_summary</th>\n",
       "    </tr>\n",
       "  </thead>\n",
       "  <tbody>\n",
       "    <tr>\n",
       "      <th>0</th>\n",
       "      <td>20152</td>\n",
       "      <td>NCT00000369</td>\n",
       "      <td>0.010067</td>\n",
       "      <td>0.008425</td>\n",
       "      <td>0.015404</td>\n",
       "      <td>0.024422</td>\n",
       "      <td>-121.138871</td>\n",
       "      <td>-131.736696</td>\n",
       "      <td>-111.567678</td>\n",
       "      <td>-116.869304</td>\n",
       "    </tr>\n",
       "    <tr>\n",
       "      <th>1</th>\n",
       "      <td>20152</td>\n",
       "      <td>NCT00000402</td>\n",
       "      <td>0.023260</td>\n",
       "      <td>0.025572</td>\n",
       "      <td>0.010257</td>\n",
       "      <td>0.024081</td>\n",
       "      <td>-121.744096</td>\n",
       "      <td>-130.151783</td>\n",
       "      <td>-111.599060</td>\n",
       "      <td>-117.427501</td>\n",
       "    </tr>\n",
       "    <tr>\n",
       "      <th>2</th>\n",
       "      <td>20152</td>\n",
       "      <td>NCT00000408</td>\n",
       "      <td>0.000000</td>\n",
       "      <td>0.022244</td>\n",
       "      <td>0.032098</td>\n",
       "      <td>0.035608</td>\n",
       "      <td>-120.164684</td>\n",
       "      <td>-131.434995</td>\n",
       "      <td>-110.986755</td>\n",
       "      <td>-116.393264</td>\n",
       "    </tr>\n",
       "    <tr>\n",
       "      <th>3</th>\n",
       "      <td>20152</td>\n",
       "      <td>NCT00000430</td>\n",
       "      <td>0.014018</td>\n",
       "      <td>0.019210</td>\n",
       "      <td>0.039978</td>\n",
       "      <td>0.013142</td>\n",
       "      <td>-123.663144</td>\n",
       "      <td>-131.470853</td>\n",
       "      <td>-111.405534</td>\n",
       "      <td>-118.621110</td>\n",
       "    </tr>\n",
       "    <tr>\n",
       "      <th>4</th>\n",
       "      <td>20152</td>\n",
       "      <td>NCT00000432</td>\n",
       "      <td>0.000000</td>\n",
       "      <td>0.010973</td>\n",
       "      <td>0.002901</td>\n",
       "      <td>0.008192</td>\n",
       "      <td>-124.490557</td>\n",
       "      <td>-131.816158</td>\n",
       "      <td>-111.588117</td>\n",
       "      <td>-118.951240</td>\n",
       "    </tr>\n",
       "    <tr>\n",
       "      <th>...</th>\n",
       "      <td>...</td>\n",
       "      <td>...</td>\n",
       "      <td>...</td>\n",
       "      <td>...</td>\n",
       "      <td>...</td>\n",
       "      <td>...</td>\n",
       "      <td>...</td>\n",
       "      <td>...</td>\n",
       "      <td>...</td>\n",
       "      <td>...</td>\n",
       "    </tr>\n",
       "    <tr>\n",
       "      <th>174038</th>\n",
       "      <td>201511</td>\n",
       "      <td>NCT02632656</td>\n",
       "      <td>0.022706</td>\n",
       "      <td>0.027685</td>\n",
       "      <td>0.013165</td>\n",
       "      <td>0.018392</td>\n",
       "      <td>-223.070698</td>\n",
       "      <td>-213.431789</td>\n",
       "      <td>-212.067095</td>\n",
       "      <td>-213.672990</td>\n",
       "    </tr>\n",
       "    <tr>\n",
       "      <th>174039</th>\n",
       "      <td>201511</td>\n",
       "      <td>NCT02633033</td>\n",
       "      <td>0.004208</td>\n",
       "      <td>0.018913</td>\n",
       "      <td>0.053529</td>\n",
       "      <td>0.018522</td>\n",
       "      <td>-222.731488</td>\n",
       "      <td>-213.162096</td>\n",
       "      <td>-210.530897</td>\n",
       "      <td>-213.414242</td>\n",
       "    </tr>\n",
       "    <tr>\n",
       "      <th>174040</th>\n",
       "      <td>201511</td>\n",
       "      <td>NCT02633163</td>\n",
       "      <td>0.008606</td>\n",
       "      <td>0.026146</td>\n",
       "      <td>0.032473</td>\n",
       "      <td>0.018172</td>\n",
       "      <td>-223.073447</td>\n",
       "      <td>-213.607476</td>\n",
       "      <td>-211.897534</td>\n",
       "      <td>-213.892553</td>\n",
       "    </tr>\n",
       "    <tr>\n",
       "      <th>174041</th>\n",
       "      <td>201511</td>\n",
       "      <td>NCT02633254</td>\n",
       "      <td>0.018286</td>\n",
       "      <td>0.034174</td>\n",
       "      <td>0.019813</td>\n",
       "      <td>0.023672</td>\n",
       "      <td>-220.130967</td>\n",
       "      <td>-212.745152</td>\n",
       "      <td>-211.792843</td>\n",
       "      <td>-212.054366</td>\n",
       "    </tr>\n",
       "    <tr>\n",
       "      <th>174042</th>\n",
       "      <td>201511</td>\n",
       "      <td>NCT02633319</td>\n",
       "      <td>0.017132</td>\n",
       "      <td>0.054032</td>\n",
       "      <td>0.016294</td>\n",
       "      <td>0.024331</td>\n",
       "      <td>-223.184300</td>\n",
       "      <td>-212.471554</td>\n",
       "      <td>-212.206059</td>\n",
       "      <td>-213.754941</td>\n",
       "    </tr>\n",
       "  </tbody>\n",
       "</table>\n",
       "<p>174043 rows × 10 columns</p>\n",
       "</div>"
      ],
      "text/plain": [
       "       query_id       doc_id  vsm_brief_title  vsm_detailed_description  \\\n",
       "0         20152  NCT00000369         0.010067                  0.008425   \n",
       "1         20152  NCT00000402         0.023260                  0.025572   \n",
       "2         20152  NCT00000408         0.000000                  0.022244   \n",
       "3         20152  NCT00000430         0.014018                  0.019210   \n",
       "4         20152  NCT00000432         0.000000                  0.010973   \n",
       "...         ...          ...              ...                       ...   \n",
       "174038   201511  NCT02632656         0.022706                  0.027685   \n",
       "174039   201511  NCT02633033         0.004208                  0.018913   \n",
       "174040   201511  NCT02633163         0.008606                  0.026146   \n",
       "174041   201511  NCT02633254         0.018286                  0.034174   \n",
       "174042   201511  NCT02633319         0.017132                  0.054032   \n",
       "\n",
       "        vsm_criteria  vsm_summary  lmjm_brief_title  \\\n",
       "0           0.015404     0.024422       -121.138871   \n",
       "1           0.010257     0.024081       -121.744096   \n",
       "2           0.032098     0.035608       -120.164684   \n",
       "3           0.039978     0.013142       -123.663144   \n",
       "4           0.002901     0.008192       -124.490557   \n",
       "...              ...          ...               ...   \n",
       "174038      0.013165     0.018392       -223.070698   \n",
       "174039      0.053529     0.018522       -222.731488   \n",
       "174040      0.032473     0.018172       -223.073447   \n",
       "174041      0.019813     0.023672       -220.130967   \n",
       "174042      0.016294     0.024331       -223.184300   \n",
       "\n",
       "        lmjm_detailed_description  lmjm_criteria  lmjm_summary  \n",
       "0                     -131.736696    -111.567678   -116.869304  \n",
       "1                     -130.151783    -111.599060   -117.427501  \n",
       "2                     -131.434995    -110.986755   -116.393264  \n",
       "3                     -131.470853    -111.405534   -118.621110  \n",
       "4                     -131.816158    -111.588117   -118.951240  \n",
       "...                           ...            ...           ...  \n",
       "174038                -213.431789    -212.067095   -213.672990  \n",
       "174039                -213.162096    -210.530897   -213.414242  \n",
       "174040                -213.607476    -211.897534   -213.892553  \n",
       "174041                -212.745152    -211.792843   -212.054366  \n",
       "174042                -212.471554    -212.206059   -213.754941  \n",
       "\n",
       "[174043 rows x 10 columns]"
      ]
     },
     "execution_count": 42,
     "metadata": {},
     "output_type": "execute_result"
    }
   ],
   "source": [
    "from sklearn.preprocessing import normalize\n",
    "\n",
    "\n",
    "column_names = [\"query_id\", \"doc_id\", \"vsm_brief_title\"]\n",
    "features_table = vsm_docs_train.score_set.copy()\n",
    "features_table = pd.DataFrame(features_table, columns = column_names)\n",
    "features_table[\"vsm_detailed_description\"] = [el[2] for el in vsm_detail_train.score_set]\n",
    "features_table[\"vsm_criteria\"] = [el[2] for el in vsm_criteria_train.score_set]\n",
    "features_table[\"vsm_summary\"] = [el[2] for el in vsm_summ_train.score_set]\n",
    "features_table[\"lmjm_brief_title\"] = [el[2] for el in lmjm_docs_train.score_set]\n",
    "features_table[\"lmjm_detailed_description\"] = [el[2] for el in LMJM_detailed_train.score_set]\n",
    "features_table[\"lmjm_criteria\"] = [el[2] for el in LMJM_criteria_train.score_set]\n",
    "features_table[\"lmjm_summary\"] = [el[2] for el in LMJM_summary_train.score_set]\n",
    "\n",
    "\n",
    "features_table.head(-5)"
   ]
  },
  {
   "cell_type": "markdown",
   "id": "d00bd529-236c-4d6c-b1ec-96b3dc32a313",
   "metadata": {},
   "source": [
    "### Normalization"
   ]
  },
  {
   "cell_type": "code",
   "execution_count": 43,
   "id": "77014068-f242-4fac-8149-208a5a100e0c",
   "metadata": {},
   "outputs": [],
   "source": [
    "from sklearn import preprocessing\n",
    "\n",
    "min_max_scaler = preprocessing.MinMaxScaler()\n",
    "features_table.iloc[:,-8:] = min_max_scaler.fit_transform(features_table.iloc[:,-8:])"
   ]
  },
  {
   "cell_type": "markdown",
   "id": "c8708ccf-55e4-4317-8f57-bef1b0e534e5",
   "metadata": {},
   "source": [
    "### labels"
   ]
  },
  {
   "cell_type": "code",
   "execution_count": 44,
   "id": "a3ce4ce2-1f5a-4dd8-bbba-20763d7ae607",
   "metadata": {},
   "outputs": [
    {
     "data": {
      "text/html": [
       "<div>\n",
       "<style scoped>\n",
       "    .dataframe tbody tr th:only-of-type {\n",
       "        vertical-align: middle;\n",
       "    }\n",
       "\n",
       "    .dataframe tbody tr th {\n",
       "        vertical-align: top;\n",
       "    }\n",
       "\n",
       "    .dataframe thead th {\n",
       "        text-align: right;\n",
       "    }\n",
       "</style>\n",
       "<table border=\"1\" class=\"dataframe\">\n",
       "  <thead>\n",
       "    <tr style=\"text-align: right;\">\n",
       "      <th></th>\n",
       "      <th>query_id</th>\n",
       "      <th>doc_id</th>\n",
       "      <th>vsm_brief_title</th>\n",
       "      <th>vsm_detailed_description</th>\n",
       "      <th>vsm_criteria</th>\n",
       "      <th>vsm_summary</th>\n",
       "      <th>lmjm_brief_title</th>\n",
       "      <th>lmjm_detailed_description</th>\n",
       "      <th>lmjm_criteria</th>\n",
       "      <th>lmjm_summary</th>\n",
       "      <th>label</th>\n",
       "    </tr>\n",
       "  </thead>\n",
       "  <tbody>\n",
       "    <tr>\n",
       "      <th>0</th>\n",
       "      <td>20152</td>\n",
       "      <td>NCT00000369</td>\n",
       "      <td>0.022862</td>\n",
       "      <td>0.024582</td>\n",
       "      <td>0.039909</td>\n",
       "      <td>0.068292</td>\n",
       "      <td>0.784217</td>\n",
       "      <td>0.772070</td>\n",
       "      <td>0.833552</td>\n",
       "      <td>0.791043</td>\n",
       "      <td>1</td>\n",
       "    </tr>\n",
       "    <tr>\n",
       "      <th>1</th>\n",
       "      <td>20152</td>\n",
       "      <td>NCT00000402</td>\n",
       "      <td>0.052821</td>\n",
       "      <td>0.074610</td>\n",
       "      <td>0.026576</td>\n",
       "      <td>0.067339</td>\n",
       "      <td>0.782138</td>\n",
       "      <td>0.777565</td>\n",
       "      <td>0.833437</td>\n",
       "      <td>0.788986</td>\n",
       "      <td>0</td>\n",
       "    </tr>\n",
       "    <tr>\n",
       "      <th>2</th>\n",
       "      <td>20152</td>\n",
       "      <td>NCT00000408</td>\n",
       "      <td>0.000000</td>\n",
       "      <td>0.064899</td>\n",
       "      <td>0.083163</td>\n",
       "      <td>0.099574</td>\n",
       "      <td>0.787564</td>\n",
       "      <td>0.773116</td>\n",
       "      <td>0.835670</td>\n",
       "      <td>0.792797</td>\n",
       "      <td>0</td>\n",
       "    </tr>\n",
       "    <tr>\n",
       "      <th>3</th>\n",
       "      <td>20152</td>\n",
       "      <td>NCT00000430</td>\n",
       "      <td>0.031833</td>\n",
       "      <td>0.056049</td>\n",
       "      <td>0.103579</td>\n",
       "      <td>0.036750</td>\n",
       "      <td>0.775547</td>\n",
       "      <td>0.772992</td>\n",
       "      <td>0.834143</td>\n",
       "      <td>0.784589</td>\n",
       "      <td>0</td>\n",
       "    </tr>\n",
       "    <tr>\n",
       "      <th>4</th>\n",
       "      <td>20152</td>\n",
       "      <td>NCT00000432</td>\n",
       "      <td>0.000000</td>\n",
       "      <td>0.032014</td>\n",
       "      <td>0.007517</td>\n",
       "      <td>0.022908</td>\n",
       "      <td>0.772705</td>\n",
       "      <td>0.771795</td>\n",
       "      <td>0.833477</td>\n",
       "      <td>0.783373</td>\n",
       "      <td>0</td>\n",
       "    </tr>\n",
       "    <tr>\n",
       "      <th>5</th>\n",
       "      <td>20152</td>\n",
       "      <td>NCT00000492</td>\n",
       "      <td>0.000000</td>\n",
       "      <td>0.051262</td>\n",
       "      <td>0.022725</td>\n",
       "      <td>0.020935</td>\n",
       "      <td>0.773087</td>\n",
       "      <td>0.772109</td>\n",
       "      <td>0.832754</td>\n",
       "      <td>0.783508</td>\n",
       "      <td>1</td>\n",
       "    </tr>\n",
       "    <tr>\n",
       "      <th>6</th>\n",
       "      <td>20152</td>\n",
       "      <td>NCT00000499</td>\n",
       "      <td>0.018112</td>\n",
       "      <td>0.050303</td>\n",
       "      <td>0.018111</td>\n",
       "      <td>0.044917</td>\n",
       "      <td>0.775586</td>\n",
       "      <td>0.772158</td>\n",
       "      <td>0.832304</td>\n",
       "      <td>0.784637</td>\n",
       "      <td>1</td>\n",
       "    </tr>\n",
       "    <tr>\n",
       "      <th>7</th>\n",
       "      <td>20152</td>\n",
       "      <td>NCT00000501</td>\n",
       "      <td>0.000000</td>\n",
       "      <td>0.071018</td>\n",
       "      <td>0.022001</td>\n",
       "      <td>0.042819</td>\n",
       "      <td>0.777316</td>\n",
       "      <td>0.774949</td>\n",
       "      <td>0.832350</td>\n",
       "      <td>0.785416</td>\n",
       "      <td>0</td>\n",
       "    </tr>\n",
       "    <tr>\n",
       "      <th>8</th>\n",
       "      <td>20152</td>\n",
       "      <td>NCT00000506</td>\n",
       "      <td>0.025266</td>\n",
       "      <td>0.048943</td>\n",
       "      <td>0.014780</td>\n",
       "      <td>0.044999</td>\n",
       "      <td>0.780001</td>\n",
       "      <td>0.772406</td>\n",
       "      <td>0.832334</td>\n",
       "      <td>0.786790</td>\n",
       "      <td>0</td>\n",
       "    </tr>\n",
       "    <tr>\n",
       "      <th>9</th>\n",
       "      <td>20152</td>\n",
       "      <td>NCT00000520</td>\n",
       "      <td>0.021847</td>\n",
       "      <td>0.061748</td>\n",
       "      <td>0.011744</td>\n",
       "      <td>0.031250</td>\n",
       "      <td>0.778298</td>\n",
       "      <td>0.774510</td>\n",
       "      <td>0.832129</td>\n",
       "      <td>0.786584</td>\n",
       "      <td>1</td>\n",
       "    </tr>\n",
       "  </tbody>\n",
       "</table>\n",
       "</div>"
      ],
      "text/plain": [
       "  query_id       doc_id  vsm_brief_title  vsm_detailed_description  \\\n",
       "0    20152  NCT00000369         0.022862                  0.024582   \n",
       "1    20152  NCT00000402         0.052821                  0.074610   \n",
       "2    20152  NCT00000408         0.000000                  0.064899   \n",
       "3    20152  NCT00000430         0.031833                  0.056049   \n",
       "4    20152  NCT00000432         0.000000                  0.032014   \n",
       "5    20152  NCT00000492         0.000000                  0.051262   \n",
       "6    20152  NCT00000499         0.018112                  0.050303   \n",
       "7    20152  NCT00000501         0.000000                  0.071018   \n",
       "8    20152  NCT00000506         0.025266                  0.048943   \n",
       "9    20152  NCT00000520         0.021847                  0.061748   \n",
       "\n",
       "   vsm_criteria  vsm_summary  lmjm_brief_title  lmjm_detailed_description  \\\n",
       "0      0.039909     0.068292          0.784217                   0.772070   \n",
       "1      0.026576     0.067339          0.782138                   0.777565   \n",
       "2      0.083163     0.099574          0.787564                   0.773116   \n",
       "3      0.103579     0.036750          0.775547                   0.772992   \n",
       "4      0.007517     0.022908          0.772705                   0.771795   \n",
       "5      0.022725     0.020935          0.773087                   0.772109   \n",
       "6      0.018111     0.044917          0.775586                   0.772158   \n",
       "7      0.022001     0.042819          0.777316                   0.774949   \n",
       "8      0.014780     0.044999          0.780001                   0.772406   \n",
       "9      0.011744     0.031250          0.778298                   0.774510   \n",
       "\n",
       "   lmjm_criteria  lmjm_summary  label  \n",
       "0       0.833552      0.791043      1  \n",
       "1       0.833437      0.788986      0  \n",
       "2       0.835670      0.792797      0  \n",
       "3       0.834143      0.784589      0  \n",
       "4       0.833477      0.783373      0  \n",
       "5       0.832754      0.783508      1  \n",
       "6       0.832304      0.784637      1  \n",
       "7       0.832350      0.785416      0  \n",
       "8       0.832334      0.786790      0  \n",
       "9       0.832129      0.786584      1  "
      ]
     },
     "execution_count": 44,
     "metadata": {},
     "output_type": "execute_result"
    }
   ],
   "source": [
    "column_names_qrl = [\"id\", \"smth\", \"doc_id\", \"label\"]\n",
    "qrls = pd.read_csv(Qrels, sep=\"\\t\", header = None)\n",
    "\n",
    "labels = dict()\n",
    "c = 0\n",
    "for i in qrls[2]:\n",
    "    j = qrls.iloc[c,3]\n",
    "    if (j != 0):\n",
    "        j = 1\n",
    "    labels[i] = j\n",
    "    c += 1\n",
    "\n",
    "features_table[\"label\"] = features_table[\"doc_id\"].map(labels)\n",
    "\n",
    "features_table.head(10)"
   ]
  },
  {
   "cell_type": "markdown",
   "id": "c39b438f-70e3-44b6-95c8-59193ebef059",
   "metadata": {},
   "source": [
    "### Gender"
   ]
  },
  {
   "cell_type": "code",
   "execution_count": 45,
   "id": "44443627-dd76-467a-81a0-b90f580c84b0",
   "metadata": {},
   "outputs": [
    {
     "data": {
      "text/html": [
       "<div>\n",
       "<style scoped>\n",
       "    .dataframe tbody tr th:only-of-type {\n",
       "        vertical-align: middle;\n",
       "    }\n",
       "\n",
       "    .dataframe tbody tr th {\n",
       "        vertical-align: top;\n",
       "    }\n",
       "\n",
       "    .dataframe thead th {\n",
       "        text-align: right;\n",
       "    }\n",
       "</style>\n",
       "<table border=\"1\" class=\"dataframe\">\n",
       "  <thead>\n",
       "    <tr style=\"text-align: right;\">\n",
       "      <th></th>\n",
       "      <th>query_id</th>\n",
       "      <th>doc_id</th>\n",
       "      <th>vsm_brief_title</th>\n",
       "      <th>vsm_detailed_description</th>\n",
       "      <th>vsm_criteria</th>\n",
       "      <th>vsm_summary</th>\n",
       "      <th>lmjm_brief_title</th>\n",
       "      <th>lmjm_detailed_description</th>\n",
       "      <th>lmjm_criteria</th>\n",
       "      <th>lmjm_summary</th>\n",
       "      <th>label</th>\n",
       "      <th>gender</th>\n",
       "    </tr>\n",
       "  </thead>\n",
       "  <tbody>\n",
       "    <tr>\n",
       "      <th>174043</th>\n",
       "      <td>201511</td>\n",
       "      <td>NCT02633449</td>\n",
       "      <td>0.000000</td>\n",
       "      <td>0.053120</td>\n",
       "      <td>0.023891</td>\n",
       "      <td>0.035652</td>\n",
       "      <td>0.430964</td>\n",
       "      <td>0.487571</td>\n",
       "      <td>0.466778</td>\n",
       "      <td>0.433814</td>\n",
       "      <td>1</td>\n",
       "      <td>1</td>\n",
       "    </tr>\n",
       "    <tr>\n",
       "      <th>174044</th>\n",
       "      <td>201511</td>\n",
       "      <td>NCT02633735</td>\n",
       "      <td>0.000000</td>\n",
       "      <td>0.116194</td>\n",
       "      <td>0.025043</td>\n",
       "      <td>0.071997</td>\n",
       "      <td>0.434038</td>\n",
       "      <td>0.488747</td>\n",
       "      <td>0.467280</td>\n",
       "      <td>0.433706</td>\n",
       "      <td>1</td>\n",
       "      <td>1</td>\n",
       "    </tr>\n",
       "    <tr>\n",
       "      <th>174045</th>\n",
       "      <td>201511</td>\n",
       "      <td>NCT02633787</td>\n",
       "      <td>0.013970</td>\n",
       "      <td>0.039867</td>\n",
       "      <td>0.053352</td>\n",
       "      <td>0.018187</td>\n",
       "      <td>0.426811</td>\n",
       "      <td>0.487442</td>\n",
       "      <td>0.466695</td>\n",
       "      <td>0.430727</td>\n",
       "      <td>0</td>\n",
       "      <td>1</td>\n",
       "    </tr>\n",
       "    <tr>\n",
       "      <th>174046</th>\n",
       "      <td>201511</td>\n",
       "      <td>NCT02634138</td>\n",
       "      <td>0.046172</td>\n",
       "      <td>0.193557</td>\n",
       "      <td>0.158965</td>\n",
       "      <td>0.034223</td>\n",
       "      <td>0.429696</td>\n",
       "      <td>0.498271</td>\n",
       "      <td>0.473270</td>\n",
       "      <td>0.432366</td>\n",
       "      <td>1</td>\n",
       "      <td>1</td>\n",
       "    </tr>\n",
       "    <tr>\n",
       "      <th>174047</th>\n",
       "      <td>201511</td>\n",
       "      <td>NCT02634190</td>\n",
       "      <td>0.076485</td>\n",
       "      <td>0.055863</td>\n",
       "      <td>0.041316</td>\n",
       "      <td>0.048171</td>\n",
       "      <td>0.431967</td>\n",
       "      <td>0.489901</td>\n",
       "      <td>0.467050</td>\n",
       "      <td>0.433345</td>\n",
       "      <td>0</td>\n",
       "      <td>1</td>\n",
       "    </tr>\n",
       "  </tbody>\n",
       "</table>\n",
       "</div>"
      ],
      "text/plain": [
       "       query_id       doc_id  vsm_brief_title  vsm_detailed_description  \\\n",
       "174043   201511  NCT02633449         0.000000                  0.053120   \n",
       "174044   201511  NCT02633735         0.000000                  0.116194   \n",
       "174045   201511  NCT02633787         0.013970                  0.039867   \n",
       "174046   201511  NCT02634138         0.046172                  0.193557   \n",
       "174047   201511  NCT02634190         0.076485                  0.055863   \n",
       "\n",
       "        vsm_criteria  vsm_summary  lmjm_brief_title  \\\n",
       "174043      0.023891     0.035652          0.430964   \n",
       "174044      0.025043     0.071997          0.434038   \n",
       "174045      0.053352     0.018187          0.426811   \n",
       "174046      0.158965     0.034223          0.429696   \n",
       "174047      0.041316     0.048171          0.431967   \n",
       "\n",
       "        lmjm_detailed_description  lmjm_criteria  lmjm_summary  label  gender  \n",
       "174043                   0.487571       0.466778      0.433814      1       1  \n",
       "174044                   0.488747       0.467280      0.433706      1       1  \n",
       "174045                   0.487442       0.466695      0.430727      0       1  \n",
       "174046                   0.498271       0.473270      0.432366      1       1  \n",
       "174047                   0.489901       0.467050      0.433345      0       1  "
      ]
     },
     "execution_count": 45,
     "metadata": {},
     "output_type": "execute_result"
    }
   ],
   "source": [
    "import re\n",
    "\n",
    "def get_gender(query):\n",
    "    result_men = re.search(\"\\s(m[ae]n|males?|boys?)[\\s\\,.!?]\", query)\n",
    "    result_women = re.search(\"wom[ae]n|females?|girls?|in menopause\", query)\n",
    "    if result_men:\n",
    "        return 0\n",
    "    if result_women:\n",
    "        return 1\n",
    "    else:\n",
    "        return 2\n",
    "\n",
    "    \n",
    "gender = dict()\n",
    "for key in train:\n",
    "    gender[key] = get_gender(train[key])\n",
    "\n",
    "features_table[\"gender\"] = features_table[\"query_id\"].map(gender)\n",
    "\n",
    "features_table.tail()"
   ]
  },
  {
   "cell_type": "markdown",
   "id": "240e87f2-7ab6-42dc-a05a-1091eeb1c42d",
   "metadata": {},
   "source": [
    "## Testing"
   ]
  },
  {
   "cell_type": "code",
   "execution_count": 109,
   "id": "097c9cad-b38b-4686-befc-11c7ac05fb1f",
   "metadata": {},
   "outputs": [
    {
     "data": {
      "text/html": [
       "<div>\n",
       "<style scoped>\n",
       "    .dataframe tbody tr th:only-of-type {\n",
       "        vertical-align: middle;\n",
       "    }\n",
       "\n",
       "    .dataframe tbody tr th {\n",
       "        vertical-align: top;\n",
       "    }\n",
       "\n",
       "    .dataframe thead th {\n",
       "        text-align: right;\n",
       "    }\n",
       "</style>\n",
       "<table border=\"1\" class=\"dataframe\">\n",
       "  <thead>\n",
       "    <tr style=\"text-align: right;\">\n",
       "      <th></th>\n",
       "      <th>query_id</th>\n",
       "      <th>doc_id</th>\n",
       "      <th>vsm_brief_title</th>\n",
       "      <th>vsm_detailed_description</th>\n",
       "      <th>vsm_criteria</th>\n",
       "      <th>vsm_summary</th>\n",
       "      <th>lmjm_brief_title</th>\n",
       "      <th>lmjm_detailed_description</th>\n",
       "      <th>lmjm_criteria</th>\n",
       "      <th>lmjm_summary</th>\n",
       "    </tr>\n",
       "  </thead>\n",
       "  <tbody>\n",
       "    <tr>\n",
       "      <th>0</th>\n",
       "      <td>20159</td>\n",
       "      <td>NCT00000369</td>\n",
       "      <td>0.000000</td>\n",
       "      <td>0.008335</td>\n",
       "      <td>0.013068</td>\n",
       "      <td>0.029652</td>\n",
       "      <td>0.0</td>\n",
       "      <td>-131.005825</td>\n",
       "      <td>-119.355894</td>\n",
       "      <td>-130.959338</td>\n",
       "    </tr>\n",
       "    <tr>\n",
       "      <th>1</th>\n",
       "      <td>20159</td>\n",
       "      <td>NCT00000402</td>\n",
       "      <td>0.005169</td>\n",
       "      <td>0.031476</td>\n",
       "      <td>0.001892</td>\n",
       "      <td>0.021283</td>\n",
       "      <td>0.0</td>\n",
       "      <td>-129.360386</td>\n",
       "      <td>-119.646288</td>\n",
       "      <td>-131.980801</td>\n",
       "    </tr>\n",
       "    <tr>\n",
       "      <th>2</th>\n",
       "      <td>20159</td>\n",
       "      <td>NCT00000408</td>\n",
       "      <td>0.000000</td>\n",
       "      <td>0.028021</td>\n",
       "      <td>0.037211</td>\n",
       "      <td>0.038571</td>\n",
       "      <td>0.0</td>\n",
       "      <td>-130.525406</td>\n",
       "      <td>-118.761954</td>\n",
       "      <td>-130.572460</td>\n",
       "    </tr>\n",
       "    <tr>\n",
       "      <th>3</th>\n",
       "      <td>20159</td>\n",
       "      <td>NCT00000430</td>\n",
       "      <td>0.004878</td>\n",
       "      <td>0.032490</td>\n",
       "      <td>0.079195</td>\n",
       "      <td>0.009415</td>\n",
       "      <td>0.0</td>\n",
       "      <td>-130.384973</td>\n",
       "      <td>-118.627322</td>\n",
       "      <td>-133.198664</td>\n",
       "    </tr>\n",
       "    <tr>\n",
       "      <th>4</th>\n",
       "      <td>20159</td>\n",
       "      <td>NCT00000432</td>\n",
       "      <td>0.000000</td>\n",
       "      <td>0.025759</td>\n",
       "      <td>0.000000</td>\n",
       "      <td>0.008991</td>\n",
       "      <td>0.0</td>\n",
       "      <td>-130.240263</td>\n",
       "      <td>-119.745823</td>\n",
       "      <td>-133.292703</td>\n",
       "    </tr>\n",
       "    <tr>\n",
       "      <th>...</th>\n",
       "      <td>...</td>\n",
       "      <td>...</td>\n",
       "      <td>...</td>\n",
       "      <td>...</td>\n",
       "      <td>...</td>\n",
       "      <td>...</td>\n",
       "      <td>...</td>\n",
       "      <td>...</td>\n",
       "      <td>...</td>\n",
       "      <td>...</td>\n",
       "    </tr>\n",
       "    <tr>\n",
       "      <th>43502</th>\n",
       "      <td>20157</td>\n",
       "      <td>NCT02632656</td>\n",
       "      <td>0.009378</td>\n",
       "      <td>0.033052</td>\n",
       "      <td>0.032505</td>\n",
       "      <td>0.031158</td>\n",
       "      <td>0.0</td>\n",
       "      <td>-169.333716</td>\n",
       "      <td>-173.761674</td>\n",
       "      <td>-171.014216</td>\n",
       "    </tr>\n",
       "    <tr>\n",
       "      <th>43503</th>\n",
       "      <td>20157</td>\n",
       "      <td>NCT02633033</td>\n",
       "      <td>0.002653</td>\n",
       "      <td>0.017667</td>\n",
       "      <td>0.071370</td>\n",
       "      <td>0.017667</td>\n",
       "      <td>0.0</td>\n",
       "      <td>-169.853285</td>\n",
       "      <td>-173.512897</td>\n",
       "      <td>-172.595898</td>\n",
       "    </tr>\n",
       "    <tr>\n",
       "      <th>43504</th>\n",
       "      <td>20157</td>\n",
       "      <td>NCT02633163</td>\n",
       "      <td>0.005517</td>\n",
       "      <td>0.028713</td>\n",
       "      <td>0.066173</td>\n",
       "      <td>0.016216</td>\n",
       "      <td>0.0</td>\n",
       "      <td>-170.087821</td>\n",
       "      <td>-172.974316</td>\n",
       "      <td>-173.340153</td>\n",
       "    </tr>\n",
       "    <tr>\n",
       "      <th>43505</th>\n",
       "      <td>20157</td>\n",
       "      <td>NCT02633254</td>\n",
       "      <td>0.006098</td>\n",
       "      <td>0.023831</td>\n",
       "      <td>0.014111</td>\n",
       "      <td>0.013642</td>\n",
       "      <td>0.0</td>\n",
       "      <td>-170.199306</td>\n",
       "      <td>-174.020148</td>\n",
       "      <td>-173.162706</td>\n",
       "    </tr>\n",
       "    <tr>\n",
       "      <th>43506</th>\n",
       "      <td>20157</td>\n",
       "      <td>NCT02633319</td>\n",
       "      <td>0.004570</td>\n",
       "      <td>0.039506</td>\n",
       "      <td>0.020389</td>\n",
       "      <td>0.021662</td>\n",
       "      <td>0.0</td>\n",
       "      <td>-169.895685</td>\n",
       "      <td>-173.919134</td>\n",
       "      <td>-173.033090</td>\n",
       "    </tr>\n",
       "  </tbody>\n",
       "</table>\n",
       "<p>43507 rows × 10 columns</p>\n",
       "</div>"
      ],
      "text/plain": [
       "      query_id       doc_id  vsm_brief_title  vsm_detailed_description  \\\n",
       "0        20159  NCT00000369         0.000000                  0.008335   \n",
       "1        20159  NCT00000402         0.005169                  0.031476   \n",
       "2        20159  NCT00000408         0.000000                  0.028021   \n",
       "3        20159  NCT00000430         0.004878                  0.032490   \n",
       "4        20159  NCT00000432         0.000000                  0.025759   \n",
       "...        ...          ...              ...                       ...   \n",
       "43502    20157  NCT02632656         0.009378                  0.033052   \n",
       "43503    20157  NCT02633033         0.002653                  0.017667   \n",
       "43504    20157  NCT02633163         0.005517                  0.028713   \n",
       "43505    20157  NCT02633254         0.006098                  0.023831   \n",
       "43506    20157  NCT02633319         0.004570                  0.039506   \n",
       "\n",
       "       vsm_criteria  vsm_summary  lmjm_brief_title  lmjm_detailed_description  \\\n",
       "0          0.013068     0.029652               0.0                -131.005825   \n",
       "1          0.001892     0.021283               0.0                -129.360386   \n",
       "2          0.037211     0.038571               0.0                -130.525406   \n",
       "3          0.079195     0.009415               0.0                -130.384973   \n",
       "4          0.000000     0.008991               0.0                -130.240263   \n",
       "...             ...          ...               ...                        ...   \n",
       "43502      0.032505     0.031158               0.0                -169.333716   \n",
       "43503      0.071370     0.017667               0.0                -169.853285   \n",
       "43504      0.066173     0.016216               0.0                -170.087821   \n",
       "43505      0.014111     0.013642               0.0                -170.199306   \n",
       "43506      0.020389     0.021662               0.0                -169.895685   \n",
       "\n",
       "       lmjm_criteria  lmjm_summary  \n",
       "0        -119.355894   -130.959338  \n",
       "1        -119.646288   -131.980801  \n",
       "2        -118.761954   -130.572460  \n",
       "3        -118.627322   -133.198664  \n",
       "4        -119.745823   -133.292703  \n",
       "...              ...           ...  \n",
       "43502    -173.761674   -171.014216  \n",
       "43503    -173.512897   -172.595898  \n",
       "43504    -172.974316   -173.340153  \n",
       "43505    -174.020148   -173.162706  \n",
       "43506    -173.919134   -173.033090  \n",
       "\n",
       "[43507 rows x 10 columns]"
      ]
     },
     "execution_count": 109,
     "metadata": {},
     "output_type": "execute_result"
    }
   ],
   "source": [
    "from sklearn.preprocessing import normalize\n",
    "\n",
    "\n",
    "column_names = [\"query_id\", \"doc_id\", \"vsm_brief_title\"]\n",
    "features_table_test = vsm_docs_test.score_set.copy()\n",
    "features_table_test = pd.DataFrame(features_table_test, columns = column_names)\n",
    "features_table_test[\"vsm_detailed_description\"] = [el[2] for el in vsm_detail_test.score_set]\n",
    "features_table_test[\"vsm_criteria\"] = [el[2] for el in vsm_criteria_test.score_set]\n",
    "features_table_test[\"vsm_summary\"] = [el[2] for el in vsm_summ_test.score_set]\n",
    "features_table_test[\"lmjm_brief_title\"] = [el[2] for el in LMJM_docs_test.score_set]\n",
    "features_table_test[\"lmjm_detailed_description\"] = [el[2] for el in LMJM_detailed_test.score_set]\n",
    "features_table_test[\"lmjm_criteria\"] = [el[2] for el in LMJM_criteria_test.score_set]\n",
    "features_table_test[\"lmjm_summary\"] = [el[2] for el in LMJM_summary_test.score_set]\n",
    "\n",
    "features_table_test[\"lmjm_brief_title\"] = features_table_test[\"lmjm_brief_title\"].replace(-np.inf, 0)\n",
    "features_table_test[\"lmjm_criteria\"] = features_table_test[\"lmjm_criteria\"].replace(-np.inf, 0)\n",
    "features_table_test[\"lmjm_detailed_description\"] = features_table_test[\"lmjm_detailed_description\"].replace(to_replace=np.nan, value=0)\n",
    "\n",
    "features_table_test.head(-5)"
   ]
  },
  {
   "cell_type": "markdown",
   "id": "0ad03fdb-9f5b-42fd-ba1e-45c8b386a401",
   "metadata": {},
   "source": [
    "### Normalization"
   ]
  },
  {
   "cell_type": "code",
   "execution_count": 110,
   "id": "fc4cc5b8-90b9-4a67-804b-14dff262b7d3",
   "metadata": {},
   "outputs": [],
   "source": [
    "from sklearn import preprocessing\n",
    "\n",
    "min_max_scaler = preprocessing.MinMaxScaler()\n",
    "features_table_test.iloc[:,-8:] = min_max_scaler.fit_transform(features_table_test.iloc[:,-8:])"
   ]
  },
  {
   "cell_type": "markdown",
   "id": "c6a6d902-7828-4b78-a03b-fb252b5e53ec",
   "metadata": {},
   "source": [
    "### Labels"
   ]
  },
  {
   "cell_type": "code",
   "execution_count": 111,
   "id": "ba1588fb-dbb9-4834-a35d-2a4d54bb0a4b",
   "metadata": {},
   "outputs": [
    {
     "data": {
      "text/html": [
       "<div>\n",
       "<style scoped>\n",
       "    .dataframe tbody tr th:only-of-type {\n",
       "        vertical-align: middle;\n",
       "    }\n",
       "\n",
       "    .dataframe tbody tr th {\n",
       "        vertical-align: top;\n",
       "    }\n",
       "\n",
       "    .dataframe thead th {\n",
       "        text-align: right;\n",
       "    }\n",
       "</style>\n",
       "<table border=\"1\" class=\"dataframe\">\n",
       "  <thead>\n",
       "    <tr style=\"text-align: right;\">\n",
       "      <th></th>\n",
       "      <th>query_id</th>\n",
       "      <th>doc_id</th>\n",
       "      <th>vsm_brief_title</th>\n",
       "      <th>vsm_detailed_description</th>\n",
       "      <th>vsm_criteria</th>\n",
       "      <th>vsm_summary</th>\n",
       "      <th>lmjm_brief_title</th>\n",
       "      <th>lmjm_detailed_description</th>\n",
       "      <th>lmjm_criteria</th>\n",
       "      <th>lmjm_summary</th>\n",
       "      <th>label</th>\n",
       "    </tr>\n",
       "  </thead>\n",
       "  <tbody>\n",
       "    <tr>\n",
       "      <th>0</th>\n",
       "      <td>20159</td>\n",
       "      <td>NCT00000369</td>\n",
       "      <td>0.000000</td>\n",
       "      <td>0.032708</td>\n",
       "      <td>0.042584</td>\n",
       "      <td>0.106999</td>\n",
       "      <td>1.0</td>\n",
       "      <td>0.467308</td>\n",
       "      <td>0.488523</td>\n",
       "      <td>0.805811</td>\n",
       "      <td>1</td>\n",
       "    </tr>\n",
       "    <tr>\n",
       "      <th>1</th>\n",
       "      <td>20159</td>\n",
       "      <td>NCT00000402</td>\n",
       "      <td>0.012231</td>\n",
       "      <td>0.123512</td>\n",
       "      <td>0.006166</td>\n",
       "      <td>0.076799</td>\n",
       "      <td>1.0</td>\n",
       "      <td>0.473999</td>\n",
       "      <td>0.487279</td>\n",
       "      <td>0.798872</td>\n",
       "      <td>0</td>\n",
       "    </tr>\n",
       "    <tr>\n",
       "      <th>2</th>\n",
       "      <td>20159</td>\n",
       "      <td>NCT00000408</td>\n",
       "      <td>0.000000</td>\n",
       "      <td>0.109956</td>\n",
       "      <td>0.121260</td>\n",
       "      <td>0.139181</td>\n",
       "      <td>1.0</td>\n",
       "      <td>0.469262</td>\n",
       "      <td>0.491068</td>\n",
       "      <td>0.808440</td>\n",
       "      <td>0</td>\n",
       "    </tr>\n",
       "    <tr>\n",
       "      <th>3</th>\n",
       "      <td>20159</td>\n",
       "      <td>NCT00000430</td>\n",
       "      <td>0.011542</td>\n",
       "      <td>0.127492</td>\n",
       "      <td>0.258076</td>\n",
       "      <td>0.033974</td>\n",
       "      <td>1.0</td>\n",
       "      <td>0.469833</td>\n",
       "      <td>0.491645</td>\n",
       "      <td>0.790598</td>\n",
       "      <td>0</td>\n",
       "    </tr>\n",
       "    <tr>\n",
       "      <th>4</th>\n",
       "      <td>20159</td>\n",
       "      <td>NCT00000432</td>\n",
       "      <td>0.000000</td>\n",
       "      <td>0.101079</td>\n",
       "      <td>0.000000</td>\n",
       "      <td>0.032443</td>\n",
       "      <td>1.0</td>\n",
       "      <td>0.470421</td>\n",
       "      <td>0.486852</td>\n",
       "      <td>0.789959</td>\n",
       "      <td>0</td>\n",
       "    </tr>\n",
       "    <tr>\n",
       "      <th>5</th>\n",
       "      <td>20159</td>\n",
       "      <td>NCT00000492</td>\n",
       "      <td>0.000000</td>\n",
       "      <td>0.104798</td>\n",
       "      <td>0.013670</td>\n",
       "      <td>0.038381</td>\n",
       "      <td>1.0</td>\n",
       "      <td>0.469398</td>\n",
       "      <td>0.488022</td>\n",
       "      <td>0.790926</td>\n",
       "      <td>1</td>\n",
       "    </tr>\n",
       "    <tr>\n",
       "      <th>6</th>\n",
       "      <td>20159</td>\n",
       "      <td>NCT00000499</td>\n",
       "      <td>0.000000</td>\n",
       "      <td>0.100884</td>\n",
       "      <td>0.018567</td>\n",
       "      <td>0.067452</td>\n",
       "      <td>1.0</td>\n",
       "      <td>0.468683</td>\n",
       "      <td>0.487795</td>\n",
       "      <td>0.792750</td>\n",
       "      <td>1</td>\n",
       "    </tr>\n",
       "    <tr>\n",
       "      <th>7</th>\n",
       "      <td>20159</td>\n",
       "      <td>NCT00000501</td>\n",
       "      <td>0.000000</td>\n",
       "      <td>0.144765</td>\n",
       "      <td>0.021239</td>\n",
       "      <td>0.069106</td>\n",
       "      <td>1.0</td>\n",
       "      <td>0.471396</td>\n",
       "      <td>0.487741</td>\n",
       "      <td>0.794632</td>\n",
       "      <td>0</td>\n",
       "    </tr>\n",
       "    <tr>\n",
       "      <th>8</th>\n",
       "      <td>20159</td>\n",
       "      <td>NCT00000506</td>\n",
       "      <td>0.013387</td>\n",
       "      <td>0.075653</td>\n",
       "      <td>0.017702</td>\n",
       "      <td>0.073472</td>\n",
       "      <td>1.0</td>\n",
       "      <td>0.467703</td>\n",
       "      <td>0.487844</td>\n",
       "      <td>0.797687</td>\n",
       "      <td>0</td>\n",
       "    </tr>\n",
       "    <tr>\n",
       "      <th>9</th>\n",
       "      <td>20159</td>\n",
       "      <td>NCT00000520</td>\n",
       "      <td>0.009686</td>\n",
       "      <td>0.162171</td>\n",
       "      <td>0.014387</td>\n",
       "      <td>0.040283</td>\n",
       "      <td>1.0</td>\n",
       "      <td>0.476108</td>\n",
       "      <td>0.487505</td>\n",
       "      <td>0.795154</td>\n",
       "      <td>1</td>\n",
       "    </tr>\n",
       "  </tbody>\n",
       "</table>\n",
       "</div>"
      ],
      "text/plain": [
       "  query_id       doc_id  vsm_brief_title  vsm_detailed_description  \\\n",
       "0    20159  NCT00000369         0.000000                  0.032708   \n",
       "1    20159  NCT00000402         0.012231                  0.123512   \n",
       "2    20159  NCT00000408         0.000000                  0.109956   \n",
       "3    20159  NCT00000430         0.011542                  0.127492   \n",
       "4    20159  NCT00000432         0.000000                  0.101079   \n",
       "5    20159  NCT00000492         0.000000                  0.104798   \n",
       "6    20159  NCT00000499         0.000000                  0.100884   \n",
       "7    20159  NCT00000501         0.000000                  0.144765   \n",
       "8    20159  NCT00000506         0.013387                  0.075653   \n",
       "9    20159  NCT00000520         0.009686                  0.162171   \n",
       "\n",
       "   vsm_criteria  vsm_summary  lmjm_brief_title  lmjm_detailed_description  \\\n",
       "0      0.042584     0.106999               1.0                   0.467308   \n",
       "1      0.006166     0.076799               1.0                   0.473999   \n",
       "2      0.121260     0.139181               1.0                   0.469262   \n",
       "3      0.258076     0.033974               1.0                   0.469833   \n",
       "4      0.000000     0.032443               1.0                   0.470421   \n",
       "5      0.013670     0.038381               1.0                   0.469398   \n",
       "6      0.018567     0.067452               1.0                   0.468683   \n",
       "7      0.021239     0.069106               1.0                   0.471396   \n",
       "8      0.017702     0.073472               1.0                   0.467703   \n",
       "9      0.014387     0.040283               1.0                   0.476108   \n",
       "\n",
       "   lmjm_criteria  lmjm_summary  label  \n",
       "0       0.488523      0.805811      1  \n",
       "1       0.487279      0.798872      0  \n",
       "2       0.491068      0.808440      0  \n",
       "3       0.491645      0.790598      0  \n",
       "4       0.486852      0.789959      0  \n",
       "5       0.488022      0.790926      1  \n",
       "6       0.487795      0.792750      1  \n",
       "7       0.487741      0.794632      0  \n",
       "8       0.487844      0.797687      0  \n",
       "9       0.487505      0.795154      1  "
      ]
     },
     "execution_count": 111,
     "metadata": {},
     "output_type": "execute_result"
    }
   ],
   "source": [
    "column_names_qrl = [\"id\", \"smth\", \"doc_id\", \"label\"]\n",
    "qrls = pd.read_csv(Qrels, sep=\"\\t\", header = None)\n",
    "\n",
    "labels = dict()\n",
    "c = 0\n",
    "for i in qrls[2]:\n",
    "    j = qrls.iloc[c,3]\n",
    "    if (j != 0):\n",
    "        j = 1\n",
    "    labels[i] = j\n",
    "    c += 1\n",
    "\n",
    "features_table_test[\"label\"] = features_table_test[\"doc_id\"].map(labels)\n",
    "\n",
    "features_table_test.head(10)"
   ]
  },
  {
   "cell_type": "markdown",
   "id": "03997f1a-70ee-4770-aa1a-4d38a1d316cd",
   "metadata": {},
   "source": [
    "### Gender"
   ]
  },
  {
   "cell_type": "code",
   "execution_count": 112,
   "id": "977dde16-4e32-4b11-abf5-97b06de3ff82",
   "metadata": {},
   "outputs": [
    {
     "data": {
      "text/html": [
       "<div>\n",
       "<style scoped>\n",
       "    .dataframe tbody tr th:only-of-type {\n",
       "        vertical-align: middle;\n",
       "    }\n",
       "\n",
       "    .dataframe tbody tr th {\n",
       "        vertical-align: top;\n",
       "    }\n",
       "\n",
       "    .dataframe thead th {\n",
       "        text-align: right;\n",
       "    }\n",
       "</style>\n",
       "<table border=\"1\" class=\"dataframe\">\n",
       "  <thead>\n",
       "    <tr style=\"text-align: right;\">\n",
       "      <th></th>\n",
       "      <th>query_id</th>\n",
       "      <th>doc_id</th>\n",
       "      <th>vsm_brief_title</th>\n",
       "      <th>vsm_detailed_description</th>\n",
       "      <th>vsm_criteria</th>\n",
       "      <th>vsm_summary</th>\n",
       "      <th>lmjm_brief_title</th>\n",
       "      <th>lmjm_detailed_description</th>\n",
       "      <th>lmjm_criteria</th>\n",
       "      <th>lmjm_summary</th>\n",
       "      <th>label</th>\n",
       "      <th>gender</th>\n",
       "    </tr>\n",
       "  </thead>\n",
       "  <tbody>\n",
       "    <tr>\n",
       "      <th>0</th>\n",
       "      <td>20159</td>\n",
       "      <td>NCT00000369</td>\n",
       "      <td>0.000000</td>\n",
       "      <td>0.032708</td>\n",
       "      <td>0.042584</td>\n",
       "      <td>0.106999</td>\n",
       "      <td>1.0</td>\n",
       "      <td>0.467308</td>\n",
       "      <td>0.488523</td>\n",
       "      <td>0.805811</td>\n",
       "      <td>1</td>\n",
       "      <td>2</td>\n",
       "    </tr>\n",
       "    <tr>\n",
       "      <th>1</th>\n",
       "      <td>20159</td>\n",
       "      <td>NCT00000402</td>\n",
       "      <td>0.012231</td>\n",
       "      <td>0.123512</td>\n",
       "      <td>0.006166</td>\n",
       "      <td>0.076799</td>\n",
       "      <td>1.0</td>\n",
       "      <td>0.473999</td>\n",
       "      <td>0.487279</td>\n",
       "      <td>0.798872</td>\n",
       "      <td>0</td>\n",
       "      <td>2</td>\n",
       "    </tr>\n",
       "    <tr>\n",
       "      <th>2</th>\n",
       "      <td>20159</td>\n",
       "      <td>NCT00000408</td>\n",
       "      <td>0.000000</td>\n",
       "      <td>0.109956</td>\n",
       "      <td>0.121260</td>\n",
       "      <td>0.139181</td>\n",
       "      <td>1.0</td>\n",
       "      <td>0.469262</td>\n",
       "      <td>0.491068</td>\n",
       "      <td>0.808440</td>\n",
       "      <td>0</td>\n",
       "      <td>2</td>\n",
       "    </tr>\n",
       "    <tr>\n",
       "      <th>3</th>\n",
       "      <td>20159</td>\n",
       "      <td>NCT00000430</td>\n",
       "      <td>0.011542</td>\n",
       "      <td>0.127492</td>\n",
       "      <td>0.258076</td>\n",
       "      <td>0.033974</td>\n",
       "      <td>1.0</td>\n",
       "      <td>0.469833</td>\n",
       "      <td>0.491645</td>\n",
       "      <td>0.790598</td>\n",
       "      <td>0</td>\n",
       "      <td>2</td>\n",
       "    </tr>\n",
       "    <tr>\n",
       "      <th>4</th>\n",
       "      <td>20159</td>\n",
       "      <td>NCT00000432</td>\n",
       "      <td>0.000000</td>\n",
       "      <td>0.101079</td>\n",
       "      <td>0.000000</td>\n",
       "      <td>0.032443</td>\n",
       "      <td>1.0</td>\n",
       "      <td>0.470421</td>\n",
       "      <td>0.486852</td>\n",
       "      <td>0.789959</td>\n",
       "      <td>0</td>\n",
       "      <td>2</td>\n",
       "    </tr>\n",
       "  </tbody>\n",
       "</table>\n",
       "</div>"
      ],
      "text/plain": [
       "  query_id       doc_id  vsm_brief_title  vsm_detailed_description  \\\n",
       "0    20159  NCT00000369         0.000000                  0.032708   \n",
       "1    20159  NCT00000402         0.012231                  0.123512   \n",
       "2    20159  NCT00000408         0.000000                  0.109956   \n",
       "3    20159  NCT00000430         0.011542                  0.127492   \n",
       "4    20159  NCT00000432         0.000000                  0.101079   \n",
       "\n",
       "   vsm_criteria  vsm_summary  lmjm_brief_title  lmjm_detailed_description  \\\n",
       "0      0.042584     0.106999               1.0                   0.467308   \n",
       "1      0.006166     0.076799               1.0                   0.473999   \n",
       "2      0.121260     0.139181               1.0                   0.469262   \n",
       "3      0.258076     0.033974               1.0                   0.469833   \n",
       "4      0.000000     0.032443               1.0                   0.470421   \n",
       "\n",
       "   lmjm_criteria  lmjm_summary  label  gender  \n",
       "0       0.488523      0.805811      1       2  \n",
       "1       0.487279      0.798872      0       2  \n",
       "2       0.491068      0.808440      0       2  \n",
       "3       0.491645      0.790598      0       2  \n",
       "4       0.486852      0.789959      0       2  "
      ]
     },
     "execution_count": 112,
     "metadata": {},
     "output_type": "execute_result"
    }
   ],
   "source": [
    "import re\n",
    "\n",
    "def get_gender(query):\n",
    "    result_men = re.search(\"\\s(m[ae]n|males?|boys?)[\\s\\,.!?]\", query)\n",
    "    result_women = re.search(\"wom[ae]n|females?|girls?|in menopause\", query)\n",
    "    if result_men:\n",
    "        return 0\n",
    "    if result_women:\n",
    "        return 1\n",
    "    else:\n",
    "        return 2\n",
    "\n",
    "    \n",
    "gender = dict()\n",
    "for key in test:\n",
    "    gender[key] = get_gender(test[key])\n",
    "\n",
    "features_table_test[\"gender\"] = features_table_test[\"query_id\"].map(gender)\n",
    "\n",
    "features_table_test.head()"
   ]
  },
  {
   "cell_type": "markdown",
   "id": "fd4a7571-25c6-4ebd-ae3e-addd33c4112e",
   "metadata": {},
   "source": [
    "# LETOR"
   ]
  },
  {
   "cell_type": "markdown",
   "id": "64770949-9480-4577-b6c1-ada718c95a3f",
   "metadata": {},
   "source": [
    "## Training"
   ]
  },
  {
   "cell_type": "code",
   "execution_count": 216,
   "id": "b2d7f0d5-c32a-4d38-9e9b-79f1c9c892b1",
   "metadata": {},
   "outputs": [],
   "source": [
    "y_train = features_table[\"label\"]\n",
    "X_train = features_table.drop([\"query_id\", \"label\", \"doc_id\"], axis=1)\n",
    "\n",
    "X_train_numpy = X_train.to_numpy()\n",
    "y_train_numpy = y_train.to_numpy()"
   ]
  },
  {
   "cell_type": "code",
   "execution_count": 118,
   "id": "1b9124f7-7a2c-4a8a-ae4c-519cf33b8c41",
   "metadata": {},
   "outputs": [
    {
     "name": "stdout",
     "output_type": "stream",
     "text": [
      "[0.30533250367912135]\n",
      "              precision    recall  f1-score   support\n",
      "\n",
      "         0.0       0.44      0.74      0.55     72801\n",
      "         1.0       0.62      0.31      0.41    101247\n",
      "\n",
      "    accuracy                           0.49    174048\n",
      "   macro avg       0.53      0.53      0.48    174048\n",
      "weighted avg       0.55      0.49      0.47    174048\n",
      "\n"
     ]
    }
   ],
   "source": [
    "#Finding best C\n",
    "from sklearn.model_selection import StratifiedKFold, GridSearchCV\n",
    "from sklearn.linear_model import LogisticRegression\n",
    "from sklearn.metrics import classification_report, precision_score, precision_recall_curve\n",
    "\n",
    "parameters = {'C':[0.1, 0.5, 1, 2, 5]}\n",
    "precision = []\n",
    "clf2 = LogisticRegression(random_state=42, class_weight = \"balanced\", max_iter= 500)\n",
    "cv2 = GridSearchCV(clf2, parameters, cv=5)\n",
    "cv2.fit(X_train, y_train)\n",
    "C = cv2.best_params_\n",
    "predict = cv2.predict(X_train)\n",
    "precision.append(precision_score(y_train, predict))\n",
    "print(precision)\n",
    "print(classification_report(predict, y_train))"
   ]
  },
  {
   "cell_type": "markdown",
   "id": "28d271a4-33e7-4ed2-b107-11f3dfd6ded0",
   "metadata": {},
   "source": [
    "## Cross-validation"
   ]
  },
  {
   "cell_type": "code",
   "execution_count": 123,
   "id": "d5b5f1f7-3a50-49f4-a969-f40ecf46832e",
   "metadata": {},
   "outputs": [
    {
     "name": "stdout",
     "output_type": "stream",
     "text": [
      "0.3056903916669212\n",
      "0.30527572171271855\n",
      "              precision    recall  f1-score   support\n",
      "\n",
      "         0.0       0.44      0.75      0.55     58307\n",
      "         1.0       0.63      0.31      0.41     80932\n",
      "\n",
      "    accuracy                           0.49    139239\n",
      "   macro avg       0.53      0.53      0.48    139239\n",
      "weighted avg       0.55      0.49      0.47    139239\n",
      "\n"
     ]
    }
   ],
   "source": [
    "#Cross-validation with best C\n",
    "precisin_train_all = []\n",
    "precisin_val_all = []\n",
    "skf = StratifiedKFold(n_splits=5, shuffle=True)\n",
    "for train_index, validation_index in skf.split(X_train, y_train):\n",
    "    X_train_k, X_validation_k = X_train_numpy[train_index], X_train_numpy[validation_index]\n",
    "    y_train_k, y_validation_k = y_train_numpy[train_index], y_train_numpy[validation_index]\n",
    "    clf = LogisticRegression(random_state=42, class_weight = \"balanced\", C = C[\"C\"], max_iter= 500).fit(X_train_k, y_train_k)\n",
    "    predict_train = clf.predict(X_train_k)\n",
    "    predict_val = clf.predict(X_validation_k)\n",
    "    precisin_train_all.append(precision_score(y_train_k, predict_train))\n",
    "    precisin_val_all.append(precision_score(y_validation_k, predict_val))\n",
    "    \n",
    "print(np.mean(precisin_train_all))\n",
    "print(np.mean(precisin_val_all))\n",
    "print(classification_report(predict_train, y_train_k))"
   ]
  },
  {
   "cell_type": "code",
   "execution_count": 140,
   "id": "6b1f2c88-b507-4a64-9332-1f21efb7b372",
   "metadata": {},
   "outputs": [
    {
     "name": "stderr",
     "output_type": "stream",
     "text": [
      "C:\\Users\\pawel\\anaconda3\\envs\\myenvIR\\lib\\site-packages\\sklearn\\metrics\\_classification.py:1327: UndefinedMetricWarning: Precision is ill-defined and being set to 0.0 due to no predicted samples. Use `zero_division` parameter to control this behavior.\n",
      "  _warn_prf(average, modifier, msg_start, len(result))\n",
      "C:\\Users\\pawel\\anaconda3\\envs\\myenvIR\\lib\\site-packages\\sklearn\\metrics\\_classification.py:1327: UndefinedMetricWarning: Recall and F-score are ill-defined and being set to 0.0 in labels with no true samples. Use `zero_division` parameter to control this behavior.\n",
      "  _warn_prf(average, modifier, msg_start, len(result))\n"
     ]
    },
    {
     "name": "stdout",
     "output_type": "stream",
     "text": [
      "[0.0]\n",
      "              precision    recall  f1-score   support\n",
      "\n",
      "         0.0       1.00      0.72      0.83    174048\n",
      "         1.0       0.00      0.00      0.00         0\n",
      "\n",
      "    accuracy                           0.72    174048\n",
      "   macro avg       0.50      0.36      0.42    174048\n",
      "weighted avg       1.00      0.72      0.83    174048\n",
      "\n"
     ]
    },
    {
     "name": "stderr",
     "output_type": "stream",
     "text": [
      "C:\\Users\\pawel\\anaconda3\\envs\\myenvIR\\lib\\site-packages\\sklearn\\metrics\\_classification.py:1327: UndefinedMetricWarning: Recall and F-score are ill-defined and being set to 0.0 in labels with no true samples. Use `zero_division` parameter to control this behavior.\n",
      "  _warn_prf(average, modifier, msg_start, len(result))\n",
      "C:\\Users\\pawel\\anaconda3\\envs\\myenvIR\\lib\\site-packages\\sklearn\\metrics\\_classification.py:1327: UndefinedMetricWarning: Recall and F-score are ill-defined and being set to 0.0 in labels with no true samples. Use `zero_division` parameter to control this behavior.\n",
      "  _warn_prf(average, modifier, msg_start, len(result))\n"
     ]
    }
   ],
   "source": [
    "#Without class_weight\n",
    "precision_train = []\n",
    "clf3 = LogisticRegression(random_state=42, max_iter= 500, C = C[\"C\"]).fit(X_train, y_train)\n",
    "predict = clf3.predict(X_train)\n",
    "y_score = clf3.predict_proba(X_train)[:,1]\n",
    "precision_train.append(precision_score(y_train, predict))\n",
    "print(precision_train)\n",
    "print(classification_report(predict, y_train))"
   ]
  },
  {
   "cell_type": "code",
   "execution_count": 204,
   "id": "c5f58fac-a55b-425c-9356-cb6f0f710506",
   "metadata": {},
   "outputs": [
    {
     "name": "stdout",
     "output_type": "stream",
     "text": [
      "[0.30533250367912135]\n",
      "              precision    recall  f1-score   support\n",
      "\n",
      "         0.0       0.44      0.74      0.55     72801\n",
      "         1.0       0.62      0.31      0.41    101247\n",
      "\n",
      "    accuracy                           0.49    174048\n",
      "   macro avg       0.53      0.53      0.48    174048\n",
      "weighted avg       0.55      0.49      0.47    174048\n",
      "\n"
     ]
    }
   ],
   "source": [
    "#Balanced\n",
    "precision_train = []\n",
    "clf3 = LogisticRegression(random_state=42, class_weight = \"balanced\", max_iter= 500, C = C[\"C\"]).fit(X_train, y_train)\n",
    "predict = clf3.predict(X_train)\n",
    "y_score = clf3.predict_proba(X_train)[:,1]\n",
    "precision_train.append(precision_score(y_train, predict))\n",
    "print(precision_train)\n",
    "print(classification_report(predict, y_train))"
   ]
  },
  {
   "cell_type": "code",
   "execution_count": 206,
   "id": "f6b5dced-1266-4730-bca7-a3b3be8e6feb",
   "metadata": {},
   "outputs": [
    {
     "name": "stdout",
     "output_type": "stream",
     "text": [
      "[0.38288288288288286]\n",
      "              precision    recall  f1-score   support\n",
      "\n",
      "         0.0       1.00      0.72      0.83    173826\n",
      "         1.0       0.00      0.38      0.00       222\n",
      "\n",
      "    accuracy                           0.72    174048\n",
      "   macro avg       0.50      0.55      0.42    174048\n",
      "weighted avg       1.00      0.72      0.83    174048\n",
      "\n"
     ]
    }
   ],
   "source": [
    "#OWN class_weights\n",
    "precision_train = []\n",
    "clf3 = LogisticRegression(random_state=42, class_weight = { 0:0.33, 1:0.67 }, max_iter= 500, C = C[\"C\"]).fit(X_train, y_train)\n",
    "predict = clf3.predict(X_train)\n",
    "y_score = clf3.predict_proba(X_train)[:,1]\n",
    "precision_train.append(precision_score(y_train, predict))\n",
    "print(precision_train)\n",
    "print(classification_report(predict, y_train))"
   ]
  },
  {
   "cell_type": "code",
   "execution_count": 234,
   "id": "89ee6acf-f67d-44ec-abc0-731f938cc6a5",
   "metadata": {},
   "outputs": [
    {
     "name": "stdout",
     "output_type": "stream",
     "text": [
      "                               coef\n",
      "lmjm_summary               5.273503\n",
      "lmjm_criteria              1.471705\n",
      "vsm_detailed_description   1.134824\n",
      "vsm_summary                1.058672\n",
      "gender                     0.999279\n",
      "vsm_brief_title            0.924437\n",
      "lmjm_detailed_description  0.865362\n",
      "lmjm_brief_title           0.130059\n",
      "vsm_criteria               0.088544\n"
     ]
    }
   ],
   "source": [
    "#COEF\n",
    "df = pd.DataFrame(np.exp(clf3.coef_.T), X_train.columns,\n",
    "                  columns=['coef'])\\\n",
    "            .sort_values(by='coef', ascending=False)\n",
    "print(df)"
   ]
  },
  {
   "cell_type": "code",
   "execution_count": 207,
   "id": "cb425f3b-8614-4148-8ef3-346509b4d5ed",
   "metadata": {},
   "outputs": [
    {
     "data": {
      "image/png": "[encoded data removed]",
      "text/plain": [
       "<Figure size 640x480 with 1 Axes>"
      ]
     },
     "metadata": {},
     "output_type": "display_data"
    }
   ],
   "source": [
    "import matplotlib.pyplot as plt\n",
    "precision, recall, tresholds = precision_recall_curve(y_train, y_score)\n",
    "\n",
    "fig, ax = plt.subplots()\n",
    "ax.plot(recall, precision, color = 'purple')\n",
    "ax.set_title(\"precision_recall_curve\")\n",
    "ax.set_ylabel(\"Precision\")\n",
    "ax.set_xlabel(\"Recall\")\n",
    "plt.show()"
   ]
  },
  {
   "cell_type": "markdown",
   "id": "b9333562-e453-4f08-943f-6980ad027e77",
   "metadata": {},
   "source": [
    "## Testing"
   ]
  },
  {
   "cell_type": "code",
   "execution_count": 121,
   "id": "9523743e-bf37-4360-8c3c-9d4c60aa5f88",
   "metadata": {},
   "outputs": [],
   "source": [
    "y_test = features_table_test[\"label\"]\n",
    "X_test = features_table_test.drop([\"query_id\", \"label\", \"doc_id\"], axis=1)\n",
    "\n",
    "X_test_numpy = X_test.to_numpy()\n",
    "y_test_numpy = y_test.to_numpy()"
   ]
  },
  {
   "cell_type": "code",
   "execution_count": 145,
   "id": "314a5130-b9be-4015-b834-276fffbb0fc7",
   "metadata": {},
   "outputs": [
    {
     "name": "stdout",
     "output_type": "stream",
     "text": [
      "[0.2848459732007183]\n",
      "              precision    recall  f1-score   support\n",
      "\n",
      "         0.0       0.83      0.72      0.77     36273\n",
      "         1.0       0.17      0.28      0.21      7239\n",
      "\n",
      "    accuracy                           0.64     43512\n",
      "   macro avg       0.50      0.50      0.49     43512\n",
      "weighted avg       0.72      0.64      0.68     43512\n",
      "\n"
     ]
    }
   ],
   "source": [
    "#Finding best C\n",
    "from sklearn.model_selection import StratifiedKFold, GridSearchCV\n",
    "from sklearn.linear_model import LogisticRegression\n",
    "from sklearn.metrics import classification_report, precision_score, precision_recall_curve\n",
    "\n",
    "precision_test = []\n",
    "predict_test = clf3.predict(X_test)\n",
    "precision_test.append(precision_score(y_test, predict_test))\n",
    "print(precision_test)\n",
    "print(classification_report(predict_test, y_test))"
   ]
  },
  {
   "cell_type": "code",
   "execution_count": null,
   "id": "fc8d48a6-8e3f-42a0-b920-1504369a05de",
   "metadata": {},
   "outputs": [],
   "source": []
  }
 ],
 "metadata": {
  "kernelspec": {
   "display_name": "Python 3 (ipykernel)",
   "language": "python",
   "name": "python3"
  },
  "language_info": {
   "codemirror_mode": {
    "name": "ipython",
    "version": 3
   },
   "file_extension": ".py",
   "mimetype": "text/x-python",
   "name": "python",
   "nbconvert_exporter": "python",
   "pygments_lexer": "ipython3",
   "version": "3.9.13"
  }
 },
 "nbformat": 4,
 "nbformat_minor": 5
}
